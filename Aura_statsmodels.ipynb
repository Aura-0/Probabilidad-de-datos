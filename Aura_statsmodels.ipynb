{
  "cells": [
    {
      "cell_type": "markdown",
      "metadata": {
        "id": "kZUHI1XZ3kqO"
      },
      "source": [
        "# Statistical Modeling with Python\n",
        "\n",
        "`statsmodels` is better suited for traditional stats"
      ]
    },
    {
      "cell_type": "code",
      "execution_count": 2,
      "metadata": {
        "ExecuteTime": {
          "end_time": "2020-05-13T15:18:36.966142Z",
          "start_time": "2020-05-13T15:18:36.963232Z"
        },
        "id": "z4knjWV43kqW"
      },
      "outputs": [],
      "source": [
        "# the statsmodels.api uses numpy array notation\n",
        "# statsmodels.formula.api use formula notation (similar to R's formula notation)\n",
        "import numpy as np\n",
        "import pandas as pd\n",
        "import matplotlib.pyplot as plt\n",
        "import seaborn as sns\n",
        "import statsmodels.api as sm\n",
        "import statsmodels.formula.api as smf"
      ]
    },
    {
      "cell_type": "markdown",
      "metadata": {
        "id": "WR2zVUkZ3kqb"
      },
      "source": [
        "## A minimal OLS example"
      ]
    },
    {
      "cell_type": "markdown",
      "metadata": {
        "id": "4Qhd04K63kqc"
      },
      "source": [
        "Four pairs of points"
      ]
    },
    {
      "cell_type": "code",
      "execution_count": 3,
      "metadata": {
        "id": "J3vOGS6_3kqc"
      },
      "outputs": [],
      "source": [
        "x = np.array([1,2,3,4])\n",
        "y = np.array([2,6,4,8])"
      ]
    },
    {
      "cell_type": "code",
      "execution_count": 4,
      "metadata": {
        "id": "L9QIhXVi3kqd",
        "outputId": "002c982b-0981-4002-d3d9-b751bc60b0ff",
        "colab": {
          "base_uri": "https://localhost:8080/",
          "height": 269
        }
      },
      "outputs": [
        {
          "output_type": "display_data",
          "data": {
            "text/plain": [
              "<Figure size 432x288 with 1 Axes>"
            ],
            "image/png": "[encoded data removed]"
          },
          "metadata": {
            "needs_background": "light"
          }
        }
      ],
      "source": [
        "plt.scatter(x,y, marker = '.')\n",
        "plt.xlim(0,5)#poner la limitación del eje x y del eje y.xlim\n",
        "plt.ylim(0,10)\n",
        "plt.show()"
      ]
    },
    {
      "cell_type": "code",
      "execution_count": 5,
      "metadata": {
        "id": "luUEVA6w3kqg",
        "outputId": "e96dd905-e34a-4f23-b21c-de47ade9c309",
        "colab": {
          "base_uri": "https://localhost:8080/"
        }
      },
      "outputs": [
        {
          "output_type": "stream",
          "name": "stdout",
          "text": [
            "   x  y\n",
            "0  1  2\n",
            "1  2  6\n",
            "2  3  4\n",
            "3  4  8\n"
          ]
        }
      ],
      "source": [
        "# make a dataframe of our data\n",
        "d = pd.DataFrame({'x':x, 'y':y})\n",
        "print(d)"
      ]
    },
    {
      "cell_type": "markdown",
      "metadata": {
        "id": "BQcb7etn3kqi"
      },
      "source": [
        "Seaborn lmplot"
      ]
    },
    {
      "cell_type": "code",
      "execution_count": 6,
      "metadata": {
        "id": "vgetHdZZ3kqj",
        "outputId": "ece29eca-9ec9-4b94-ff35-04ecd5371cc1",
        "colab": {
          "base_uri": "https://localhost:8080/",
          "height": 387
        }
      },
      "outputs": [
        {
          "output_type": "execute_result",
          "data": {
            "text/plain": [
              "<seaborn.axisgrid.FacetGrid at 0x7fc6f6aa39d0>"
            ]
          },
          "metadata": {},
          "execution_count": 6
        },
        {
          "output_type": "display_data",
          "data": {
            "text/plain": [
              "<Figure size 360x360 with 1 Axes>"
            ],
            "image/png": "[encoded data removed]"
          },
          "metadata": {
            "needs_background": "light"
          }
        }
      ],
      "source": [
        "sns.lmplot(x = 'x', y = 'y', data = d)\n",
        "#Es la regresión lineal\n"
      ]
    },
    {
      "cell_type": "markdown",
      "metadata": {
        "id": "dOi1Wzhy3kqk"
      },
      "source": [
        "## Formula notation with statsmodels\n",
        "use statsmodels.formula.api (often imported as smf)"
      ]
    },
    {
      "cell_type": "code",
      "execution_count": 7,
      "metadata": {
        "id": "T4TluJa03kql"
      },
      "outputs": [],
      "source": [
        "# data is in a dataframe\n",
        "model = smf.ols('y ~ x', data = d)#Aqui tnemos el data frame\n",
        "#el metodo que tilizamos para calcular el modelo\n",
        "#Los minimos cuadrados ordinarios\n",
        "#Lo aplicamos, a la recta de regresión que ya tenemos definidos\n",
        "#Con lo que calculamos beta 0 y beta 1\n"
      ]
    },
    {
      "cell_type": "code",
      "execution_count": 8,
      "metadata": {
        "id": "WsUbe4BB3kqm"
      },
      "outputs": [],
      "source": [
        "# estimation of coefficients is not done until you call fit() on the model\n",
        "results = model.fit()\n",
        "#Con fit alimentamos el modelo\n",
        "#todo lo que hace el modelo\n",
        "#para hacer las transformaciones.\n",
        "\n"
      ]
    },
    {
      "cell_type": "code",
      "execution_count": 9,
      "metadata": {
        "id": "DKUR8jV13kqn",
        "outputId": "4938ee4f-2ccd-4909-994b-08f1f6a9a7b8",
        "colab": {
          "base_uri": "https://localhost:8080/"
        }
      },
      "outputs": [
        {
          "output_type": "stream",
          "name": "stdout",
          "text": [
            "                            OLS Regression Results                            \n",
            "==============================================================================\n",
            "Dep. Variable:                      y   R-squared:                       0.640\n",
            "Model:                            OLS   Adj. R-squared:                  0.460\n",
            "Method:                 Least Squares   F-statistic:                     3.556\n",
            "Date:                Wed, 23 Nov 2022   Prob (F-statistic):              0.200\n",
            "Time:                        02:03:55   Log-Likelihood:                -6.8513\n",
            "No. Observations:                   4   AIC:                             17.70\n",
            "Df Residuals:                       2   BIC:                             16.48\n",
            "Df Model:                           1                                         \n",
            "Covariance Type:            nonrobust                                         \n",
            "==============================================================================\n",
            "                 coef    std err          t      P>|t|      [0.025      0.975]\n",
            "------------------------------------------------------------------------------\n",
            "Intercept      1.0000      2.324      0.430      0.709      -8.998      10.998\n",
            "x              1.6000      0.849      1.886      0.200      -2.051       5.251\n",
            "==============================================================================\n",
            "Omnibus:                          nan   Durbin-Watson:                   3.400\n",
            "Prob(Omnibus):                    nan   Jarque-Bera (JB):                0.308\n",
            "Skew:                           0.000   Prob(JB):                        0.857\n",
            "Kurtosis:                       1.640   Cond. No.                         7.47\n",
            "==============================================================================\n",
            "\n",
            "Notes:\n",
            "[1] Standard Errors assume that the covariance matrix of the errors is correctly specified.\n"
          ]
        },
        {
          "output_type": "stream",
          "name": "stderr",
          "text": [
            "/usr/local/lib/python3.7/dist-packages/statsmodels/stats/stattools.py:75: ValueWarning: omni_normtest is not valid with less than 8 observations; 4 samples were given.\n",
            "  \"samples were given.\" % int(n), ValueWarning)\n"
          ]
        }
      ],
      "source": [
        "#a los resultados que hayan salido\n",
        "#La tabla que nos da a continuación\n",
        "#Nos da bastante información estadistica\n",
        "#La variable dependiente\n",
        "print(results.summary()) \n",
        "\n"
      ]
    },
    {
      "cell_type": "code",
      "source": [
        "#intercepto estamos obteniendo\n",
        "#y=1+1.6x\n",
        "#Resumen de toda la información estadistica"
      ],
      "metadata": {
        "id": "Rau3RkDRosUV"
      },
      "execution_count": 10,
      "outputs": []
    },
    {
      "cell_type": "markdown",
      "metadata": {
        "id": "RBZEl28a3kqp"
      },
      "source": [
        "Using the abline_plot function for plotting the results"
      ]
    },
    {
      "cell_type": "code",
      "execution_count": 11,
      "metadata": {
        "id": "4JzeLT3D3kqq",
        "outputId": "f36f10de-a132-40f0-e69c-b5f2fbb5484e",
        "colab": {
          "base_uri": "https://localhost:8080/",
          "height": 269
        }
      },
      "outputs": [
        {
          "output_type": "display_data",
          "data": {
            "text/plain": [
              "<Figure size 432x288 with 1 Axes>"
            ],
            "image/png": "[encoded data removed]"
          },
          "metadata": {
            "needs_background": "light"
          }
        }
      ],
      "source": [
        "sm.graphics.abline_plot(model_results = results)\n",
        "plt.scatter(d.x, d.y)\n",
        "#se ajusta el modelo\n",
        "plt.xlim(0,5)\n",
        "plt.ylim(0,10)\n",
        "\n",
        "plt.show()"
      ]
    },
    {
      "cell_type": "markdown",
      "metadata": {
        "id": "utqyzlBY3kqs"
      },
      "source": [
        "Generating an anova table"
      ]
    },
    {
      "cell_type": "code",
      "execution_count": 12,
      "metadata": {
        "id": "LIXdKQzU3kqt",
        "outputId": "70888159-ed9a-4a0e-f734-e981bede6536",
        "colab": {
          "base_uri": "https://localhost:8080/"
        }
      },
      "outputs": [
        {
          "output_type": "stream",
          "name": "stdout",
          "text": [
            "           df  sum_sq  mean_sq         F  PR(>F)\n",
            "x         1.0    12.8     12.8  3.555556     0.2\n",
            "Residual  2.0     7.2      3.6       NaN     NaN\n"
          ]
        }
      ],
      "source": [
        "print(sm.stats.anova_lm(results))\n"
      ]
    },
    {
      "cell_type": "markdown",
      "metadata": {
        "id": "18BcwpYi3kqt"
      },
      "source": [
        "Making predictions"
      ]
    },
    {
      "cell_type": "code",
      "execution_count": 13,
      "metadata": {
        "id": "1Y8ycHTr3kqu",
        "outputId": "304eaec7-ea6c-4f98-af23-e76ff324a0f9",
        "colab": {
          "base_uri": "https://localhost:8080/"
        }
      },
      "outputs": [
        {
          "output_type": "execute_result",
          "data": {
            "text/plain": [
              "0    4.2\n",
              "dtype: float64"
            ]
          },
          "metadata": {},
          "execution_count": 13
        }
      ],
      "source": [
        "results.predict({'x' : 2})"
      ]
    },
    {
      "cell_type": "markdown",
      "metadata": {
        "id": "gZb4auin3kqv"
      },
      "source": [
        "## numpy array notation\n",
        "similar to sklearn's notation\n",
        "otro metodo\n"
      ]
    },
    {
      "cell_type": "code",
      "execution_count": 14,
      "metadata": {
        "id": "tB6N6gvB3kqx",
        "outputId": "7ce48260-208f-46fc-a298-fce0a5dfbae4",
        "colab": {
          "base_uri": "https://localhost:8080/"
        }
      },
      "outputs": [
        {
          "output_type": "stream",
          "name": "stdout",
          "text": [
            "[1 2 3 4]\n"
          ]
        }
      ],
      "source": [
        "print(x)"
      ]
    },
    {
      "cell_type": "code",
      "execution_count": 15,
      "metadata": {
        "id": "Q3KgNPrt3kqz"
      },
      "outputs": [],
      "source": [
        "X = sm.add_constant(x)  \n",
        "# need to add a constant for the intercept term.\n",
        "# because we are using the numpy notation, we use sm rather than smf"
      ]
    },
    {
      "cell_type": "code",
      "execution_count": 16,
      "metadata": {
        "id": "bZNg44Ou3kq1",
        "outputId": "85981bb4-f636-4331-d8e6-8333a376eea6",
        "colab": {
          "base_uri": "https://localhost:8080/"
        }
      },
      "outputs": [
        {
          "output_type": "stream",
          "name": "stdout",
          "text": [
            "[[1. 1.]\n",
            " [1. 2.]\n",
            " [1. 3.]\n",
            " [1. 4.]]\n"
          ]
        }
      ],
      "source": [
        "print(X)"
      ]
    },
    {
      "cell_type": "markdown",
      "metadata": {
        "id": "uU2kh-QB3kq2"
      },
      "source": [
        "$$y_i = \\beta_0 + \\beta_1 x_i + \\epsilon_i$$\n",
        "\n",
        "$$\\mathbf{\\hat{Y}} = \\boldsymbol{\\beta} \\mathbf{X}$$\n"
      ]
    },
    {
      "cell_type": "code",
      "execution_count": 17,
      "metadata": {
        "id": "HH71fwrW3kq3"
      },
      "outputs": [],
      "source": [
        "# OLS is capitalized in the numpy notation\n",
        "#Este es otro metodo\n",
        "model2 = sm.OLS(y, X)  \n"
      ]
    },
    {
      "cell_type": "code",
      "execution_count": 18,
      "metadata": {
        "id": "XGaMNbye3kq4"
      },
      "outputs": [],
      "source": [
        "results2 = model2.fit()\n"
      ]
    },
    {
      "cell_type": "code",
      "execution_count": 19,
      "metadata": {
        "id": "d3VOwKvE3kq7",
        "outputId": "f466d13a-1b8f-43bc-8fde-feb008485d09",
        "colab": {
          "base_uri": "https://localhost:8080/"
        }
      },
      "outputs": [
        {
          "output_type": "stream",
          "name": "stdout",
          "text": [
            "                            OLS Regression Results                            \n",
            "==============================================================================\n",
            "Dep. Variable:                      y   R-squared:                       0.640\n",
            "Model:                            OLS   Adj. R-squared:                  0.460\n",
            "Method:                 Least Squares   F-statistic:                     3.556\n",
            "Date:                Wed, 23 Nov 2022   Prob (F-statistic):              0.200\n",
            "Time:                        02:03:56   Log-Likelihood:                -6.8513\n",
            "No. Observations:                   4   AIC:                             17.70\n",
            "Df Residuals:                       2   BIC:                             16.48\n",
            "Df Model:                           1                                         \n",
            "Covariance Type:            nonrobust                                         \n",
            "==============================================================================\n",
            "                 coef    std err          t      P>|t|      [0.025      0.975]\n",
            "------------------------------------------------------------------------------\n",
            "const          1.0000      2.324      0.430      0.709      -8.998      10.998\n",
            "x1             1.6000      0.849      1.886      0.200      -2.051       5.251\n",
            "==============================================================================\n",
            "Omnibus:                          nan   Durbin-Watson:                   3.400\n",
            "Prob(Omnibus):                    nan   Jarque-Bera (JB):                0.308\n",
            "Skew:                           0.000   Prob(JB):                        0.857\n",
            "Kurtosis:                       1.640   Cond. No.                         7.47\n",
            "==============================================================================\n",
            "\n",
            "Notes:\n",
            "[1] Standard Errors assume that the covariance matrix of the errors is correctly specified.\n"
          ]
        },
        {
          "output_type": "stream",
          "name": "stderr",
          "text": [
            "/usr/local/lib/python3.7/dist-packages/statsmodels/stats/stattools.py:75: ValueWarning: omni_normtest is not valid with less than 8 observations; 4 samples were given.\n",
            "  \"samples were given.\" % int(n), ValueWarning)\n"
          ]
        }
      ],
      "source": [
        "print(results2.summary())\n"
      ]
    },
    {
      "cell_type": "markdown",
      "metadata": {
        "id": "woC7-Xoe3kq8"
      },
      "source": [
        "## OLS solution\n",
        "-Omitir formula\n",
        "$$(X^TX)^{-1}X^TY$$"
      ]
    },
    {
      "cell_type": "code",
      "execution_count": 20,
      "metadata": {
        "id": "_u04WrWF3kq9",
        "outputId": "89e8da1d-e69a-45e1-bf3b-7a4a11ed63a1",
        "colab": {
          "base_uri": "https://localhost:8080/"
        }
      },
      "outputs": [
        {
          "output_type": "execute_result",
          "data": {
            "text/plain": [
              "array([[1., 1.],\n",
              "       [1., 2.],\n",
              "       [1., 3.],\n",
              "       [1., 4.]])"
            ]
          },
          "metadata": {},
          "execution_count": 20
        }
      ],
      "source": [
        "X"
      ]
    },
    {
      "cell_type": "code",
      "execution_count": 21,
      "metadata": {
        "id": "auUsHkgZ3kq-",
        "outputId": "1673d32d-baba-44eb-fcb9-1c56af585c18",
        "colab": {
          "base_uri": "https://localhost:8080/"
        }
      },
      "outputs": [
        {
          "output_type": "execute_result",
          "data": {
            "text/plain": [
              "array([1. , 1.6])"
            ]
          },
          "metadata": {},
          "execution_count": 21
        }
      ],
      "source": [
        "np.linalg.inv(X.T @ X) @ (X.T @ y)#@ es multiplicar matrices\n",
        "#el primer valor es el intercepto\n",
        "#el segundo valor es la pendiente"
      ]
    },
    {
      "cell_type": "markdown",
      "metadata": {
        "id": "aSbpg2_u3kq-"
      },
      "source": [
        "## Plot Interaction of Categorical Factors- Ahora con mas variables es lo mismo\n",
        "\n",
        "https://www.statsmodels.org/dev/examples/notebooks/generated/categorical_interaction_plot.html\n",
        "\n",
        "In this example, we will visualize the interaction between categorical factors. First, we will create some categorical data. Then, we will plot it using the interaction_plot function, which internally re-codes the x-factor categories to integers."
      ]
    },
    {
      "cell_type": "code",
      "execution_count": 22,
      "metadata": {
        "id": "RWsPCgzk3krA",
        "outputId": "4c1103c1-9fd9-4178-a3e3-af0022aae5da",
        "colab": {
          "base_uri": "https://localhost:8080/"
        }
      },
      "outputs": [
        {
          "output_type": "stream",
          "name": "stdout",
          "text": [
            "    Consumption  Gender  Income\n",
            "0            51    Male      80\n",
            "1            52    Male      80\n",
            "2            53    Male      90\n",
            "3            54    Male      90\n",
            "4            56    Male     100\n",
            "5            57    Male     100\n",
            "6            55  Female      80\n",
            "7            56  Female      80\n",
            "8            58  Female      90\n",
            "9            59  Female      90\n",
            "10           62  Female     100\n",
            "11           63  Female     100\n"
          ]
        }
      ],
      "source": [
        "# https://stackoverflow.com/questions/55663474/interaction-plot-from-statsmodels-formula-api-using-python\n",
        "\n",
        "import pandas as pd\n",
        "from statsmodels.formula.api import ols\n",
        "#listas del mismo tamaño, hacemos un diccionario\n",
        "Consumption = [51, 52, 53, 54, 56, 57, 55, 56, 58, 59, 62, 63]\n",
        "Gender  = [\"Male\", \"Male\", \"Male\", \"Male\", \"Male\", \"Male\", \"Female\",\n",
        "           \"Female\", \"Female\", \"Female\", \"Female\", \"Female\"]\n",
        "Income = [80, 80, 90, 90, 100, 100, 80, 80, 90, 90, 100, 100]\n",
        "#imprimimos el data frame\n",
        "df = pd.DataFrame( {\"Consumption\": Consumption, \"Gender\": Gender, \"Income\": Income})\n",
        "print(df)"
      ]
    },
    {
      "cell_type": "code",
      "execution_count": 23,
      "metadata": {
        "id": "MhFIAGwF3krD",
        "outputId": "fffdfedd-3bd2-4016-e721-0c61dafead6d",
        "colab": {
          "base_uri": "https://localhost:8080/",
          "height": 545
        }
      },
      "outputs": [
        {
          "output_type": "stream",
          "name": "stderr",
          "text": [
            "/usr/local/lib/python3.7/dist-packages/scipy/stats/stats.py:1542: UserWarning: kurtosistest only valid for n>=20 ... continuing anyway, n=12\n",
            "  \"anyway, n=%i\" % int(n))\n"
          ]
        },
        {
          "output_type": "execute_result",
          "data": {
            "text/plain": [
              "<class 'statsmodels.iolib.summary.Summary'>\n",
              "\"\"\"\n",
              "                            OLS Regression Results                            \n",
              "==============================================================================\n",
              "Dep. Variable:            Consumption   R-squared:                       0.976\n",
              "Model:                            OLS   Adj. R-squared:                  0.967\n",
              "Method:                 Least Squares   F-statistic:                     108.4\n",
              "Date:                Wed, 23 Nov 2022   Prob (F-statistic):           8.11e-07\n",
              "Time:                        02:03:56   Log-Likelihood:                -9.9135\n",
              "No. Observations:                  12   AIC:                             27.83\n",
              "Df Residuals:                       8   BIC:                             29.77\n",
              "Df Model:                           3                                         \n",
              "Covariance Type:            nonrobust                                         \n",
              "=========================================================================================\n",
              "                            coef    std err          t      P>|t|      [0.025      0.975]\n",
              "-----------------------------------------------------------------------------------------\n",
              "Intercept                27.3333      3.059      8.935      0.000      20.279      34.387\n",
              "Gender[T.Male]            4.0000      4.326      0.925      0.382      -5.976      13.976\n",
              "Income                    0.3500      0.034     10.340      0.000       0.272       0.428\n",
              "Gender[T.Male]:Income    -0.1000      0.048     -2.089      0.070      -0.210       0.010\n",
              "==============================================================================\n",
              "Omnibus:                        2.522   Durbin-Watson:                   3.273\n",
              "Prob(Omnibus):                  0.283   Jarque-Bera (JB):                0.970\n",
              "Skew:                          -0.055   Prob(JB):                        0.616\n",
              "Kurtosis:                       1.612   Cond. No.                     2.62e+03\n",
              "==============================================================================\n",
              "\n",
              "Notes:\n",
              "[1] Standard Errors assume that the covariance matrix of the errors is correctly specified.\n",
              "[2] The condition number is large, 2.62e+03. This might indicate that there are\n",
              "strong multicollinearity or other numerical problems.\n",
              "\"\"\""
            ],
            "text/html": [
              "<table class=\"simpletable\">\n",
              "<caption>OLS Regression Results</caption>\n",
              "<tr>\n",
              "  <th>Dep. Variable:</th>       <td>Consumption</td>   <th>  R-squared:         </th> <td>   0.976</td>\n",
              "</tr>\n",
              "<tr>\n",
              "  <th>Model:</th>                   <td>OLS</td>       <th>  Adj. R-squared:    </th> <td>   0.967</td>\n",
              "</tr>\n",
              "<tr>\n",
              "  <th>Method:</th>             <td>Least Squares</td>  <th>  F-statistic:       </th> <td>   108.4</td>\n",
              "</tr>\n",
              "<tr>\n",
              "  <th>Date:</th>             <td>Wed, 23 Nov 2022</td> <th>  Prob (F-statistic):</th> <td>8.11e-07</td>\n",
              "</tr>\n",
              "<tr>\n",
              "  <th>Time:</th>                 <td>02:03:56</td>     <th>  Log-Likelihood:    </th> <td> -9.9135</td>\n",
              "</tr>\n",
              "<tr>\n",
              "  <th>No. Observations:</th>      <td>    12</td>      <th>  AIC:               </th> <td>   27.83</td>\n",
              "</tr>\n",
              "<tr>\n",
              "  <th>Df Residuals:</th>          <td>     8</td>      <th>  BIC:               </th> <td>   29.77</td>\n",
              "</tr>\n",
              "<tr>\n",
              "  <th>Df Model:</th>              <td>     3</td>      <th>                     </th>     <td> </td>   \n",
              "</tr>\n",
              "<tr>\n",
              "  <th>Covariance Type:</th>      <td>nonrobust</td>    <th>                     </th>     <td> </td>   \n",
              "</tr>\n",
              "</table>\n",
              "<table class=\"simpletable\">\n",
              "<tr>\n",
              "            <td></td>               <th>coef</th>     <th>std err</th>      <th>t</th>      <th>P>|t|</th>  <th>[0.025</th>    <th>0.975]</th>  \n",
              "</tr>\n",
              "<tr>\n",
              "  <th>Intercept</th>             <td>   27.3333</td> <td>    3.059</td> <td>    8.935</td> <td> 0.000</td> <td>   20.279</td> <td>   34.387</td>\n",
              "</tr>\n",
              "<tr>\n",
              "  <th>Gender[T.Male]</th>        <td>    4.0000</td> <td>    4.326</td> <td>    0.925</td> <td> 0.382</td> <td>   -5.976</td> <td>   13.976</td>\n",
              "</tr>\n",
              "<tr>\n",
              "  <th>Income</th>                <td>    0.3500</td> <td>    0.034</td> <td>   10.340</td> <td> 0.000</td> <td>    0.272</td> <td>    0.428</td>\n",
              "</tr>\n",
              "<tr>\n",
              "  <th>Gender[T.Male]:Income</th> <td>   -0.1000</td> <td>    0.048</td> <td>   -2.089</td> <td> 0.070</td> <td>   -0.210</td> <td>    0.010</td>\n",
              "</tr>\n",
              "</table>\n",
              "<table class=\"simpletable\">\n",
              "<tr>\n",
              "  <th>Omnibus:</th>       <td> 2.522</td> <th>  Durbin-Watson:     </th> <td>   3.273</td>\n",
              "</tr>\n",
              "<tr>\n",
              "  <th>Prob(Omnibus):</th> <td> 0.283</td> <th>  Jarque-Bera (JB):  </th> <td>   0.970</td>\n",
              "</tr>\n",
              "<tr>\n",
              "  <th>Skew:</th>          <td>-0.055</td> <th>  Prob(JB):          </th> <td>   0.616</td>\n",
              "</tr>\n",
              "<tr>\n",
              "  <th>Kurtosis:</th>      <td> 1.612</td> <th>  Cond. No.          </th> <td>2.62e+03</td>\n",
              "</tr>\n",
              "</table><br/><br/>Notes:<br/>[1] Standard Errors assume that the covariance matrix of the errors is correctly specified.<br/>[2] The condition number is large, 2.62e+03. This might indicate that there are<br/>strong multicollinearity or other numerical problems."
            ]
          },
          "metadata": {},
          "execution_count": 23
        }
      ],
      "source": [
        "#vamos a sacar una tabla como la de arriba\n",
        "#OLS\n",
        "Reg = ols(formula = \"Consumption ~ Gender + Income + Gender*Income\", data = df) #hacemos la regresion de consuption con respecto al genero~ son nuestras variables responsivas\n",
        "Fit = Reg.fit()                                                                 #La regresion es varias variables, gender, income y gender*income\n",
        "#cuanto gana un hombre o mujer por unidad\n",
        "Fit.summary()"
      ]
    },
    {
      "cell_type": "markdown",
      "source": [
        "![Consuption.jpg](data:image/jpeg;base64,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)"
      ],
      "metadata": {
        "id": "bwfE3CREs9l2"
      }
    },
    {
      "cell_type": "code",
      "execution_count": 24,
      "metadata": {
        "id": "2a9fWhAd3krT",
        "outputId": "cf7815af-0bff-4ad8-f5a0-f5c0329d357a",
        "colab": {
          "base_uri": "https://localhost:8080/",
          "height": 282
        }
      },
      "outputs": [
        {
          "output_type": "display_data",
          "data": {
            "text/plain": [
              "<Figure size 432x288 with 1 Axes>"
            ],
            "image/png": "[encoded data removed]"
          },
          "metadata": {}
        }
      ],
      "source": [
        "import matplotlib.pyplot as plt\n",
        "from statsmodels.graphics.factorplots import interaction_plot\n",
        "plt.style.use('ggplot')\n",
        "\n",
        "fig = interaction_plot(\n",
        "   x        = Income,\n",
        "   trace    = Gender,\n",
        "   response = Fit.fittedvalues,\n",
        "   colors   = ['red','blue'],\n",
        "   markers  = ['D','^'])\n",
        "plt.xlabel('Income')\n",
        "plt.ylabel('Consumption')\n",
        "plt.legend().set_title(None)\n",
        "plt.show()"
      ]
    },
    {
      "cell_type": "markdown",
      "source": [
        "##Ejercicio\n",
        "- aumentar 5 datos mas en x,y\n",
        "- Quitar gender*income\n",
        "- Mostrar las tablas en summary\n",
        "- Documentar\n"
      ],
      "metadata": {
        "id": "zVQcowVutgnN"
      }
    },
    {
      "cell_type": "code",
      "execution_count": 25,
      "metadata": {
        "id": "0EHRrn2L3krc"
      },
      "outputs": [],
      "source": [
        "#Aumentamos 5 datos mas\n",
        "x = np.array([1,2,3,4,6,8,9,5,10])\n",
        "y = np.array([2,6,4,8,1,2,3,4,5])"
      ]
    },
    {
      "cell_type": "code",
      "source": [
        "#Usamos la variable responsiva(y) y los datos(x)\n",
        "model = smf.ols('y ~ x', data = d)\n",
        "results = model.fit()\n"
      ],
      "metadata": {
        "id": "NfERleU7xvn0"
      },
      "execution_count": 26,
      "outputs": []
    },
    {
      "cell_type": "code",
      "source": [
        "#Mostramos la tabla del resumen estadistico de nuestros datos\n",
        "print(results.summary()) "
      ],
      "metadata": {
        "colab": {
          "base_uri": "https://localhost:8080/"
        },
        "id": "IDui0Shhx66Z",
        "outputId": "0e565d72-16aa-4469-caba-5a023b68a080"
      },
      "execution_count": 27,
      "outputs": [
        {
          "output_type": "stream",
          "name": "stdout",
          "text": [
            "                            OLS Regression Results                            \n",
            "==============================================================================\n",
            "Dep. Variable:                      y   R-squared:                       0.640\n",
            "Model:                            OLS   Adj. R-squared:                  0.460\n",
            "Method:                 Least Squares   F-statistic:                     3.556\n",
            "Date:                Wed, 23 Nov 2022   Prob (F-statistic):              0.200\n",
            "Time:                        02:03:57   Log-Likelihood:                -6.8513\n",
            "No. Observations:                   4   AIC:                             17.70\n",
            "Df Residuals:                       2   BIC:                             16.48\n",
            "Df Model:                           1                                         \n",
            "Covariance Type:            nonrobust                                         \n",
            "==============================================================================\n",
            "                 coef    std err          t      P>|t|      [0.025      0.975]\n",
            "------------------------------------------------------------------------------\n",
            "Intercept      1.0000      2.324      0.430      0.709      -8.998      10.998\n",
            "x              1.6000      0.849      1.886      0.200      -2.051       5.251\n",
            "==============================================================================\n",
            "Omnibus:                          nan   Durbin-Watson:                   3.400\n",
            "Prob(Omnibus):                    nan   Jarque-Bera (JB):                0.308\n",
            "Skew:                           0.000   Prob(JB):                        0.857\n",
            "Kurtosis:                       1.640   Cond. No.                         7.47\n",
            "==============================================================================\n",
            "\n",
            "Notes:\n",
            "[1] Standard Errors assume that the covariance matrix of the errors is correctly specified.\n"
          ]
        },
        {
          "output_type": "stream",
          "name": "stderr",
          "text": [
            "/usr/local/lib/python3.7/dist-packages/statsmodels/stats/stattools.py:75: ValueWarning: omni_normtest is not valid with less than 8 observations; 4 samples were given.\n",
            "  \"samples were given.\" % int(n), ValueWarning)\n"
          ]
        }
      ]
    },
    {
      "cell_type": "code",
      "source": [
        "#vemos una nueva regresión quitando gender*income\n",
        "Reg = ols(formula = \"Consumption ~ Gender + Income\", data = df) #hacemos la regresion de consuption con respecto al genero~ son nuestras variables responsivas\n",
        "Fit = Reg.fit()                                                                 #La regresion es varias variables, gender, income.\n",
        "#cuanto gana un hombre o mujer por unidad\n",
        "Fit.summary()"
      ],
      "metadata": {
        "id": "VBzxXGR3yhna",
        "colab": {
          "base_uri": "https://localhost:8080/",
          "height": 525
        },
        "outputId": "99e3569c-9128-45a5-9547-fc24c7e0b7fd"
      },
      "execution_count": 28,
      "outputs": [
        {
          "output_type": "stream",
          "name": "stderr",
          "text": [
            "/usr/local/lib/python3.7/dist-packages/scipy/stats/stats.py:1542: UserWarning: kurtosistest only valid for n>=20 ... continuing anyway, n=12\n",
            "  \"anyway, n=%i\" % int(n))\n"
          ]
        },
        {
          "output_type": "execute_result",
          "data": {
            "text/plain": [
              "<class 'statsmodels.iolib.summary.Summary'>\n",
              "\"\"\"\n",
              "                            OLS Regression Results                            \n",
              "==============================================================================\n",
              "Dep. Variable:            Consumption   R-squared:                       0.963\n",
              "Model:                            OLS   Adj. R-squared:                  0.955\n",
              "Method:                 Least Squares   F-statistic:                     116.7\n",
              "Date:                Wed, 23 Nov 2022   Prob (F-statistic):           3.66e-07\n",
              "Time:                        02:03:57   Log-Likelihood:                -12.525\n",
              "No. Observations:                  12   AIC:                             31.05\n",
              "Df Residuals:                       9   BIC:                             32.51\n",
              "Df Model:                           2                                         \n",
              "Covariance Type:            nonrobust                                         \n",
              "==================================================================================\n",
              "                     coef    std err          t      P>|t|      [0.025      0.975]\n",
              "----------------------------------------------------------------------------------\n",
              "Intercept         31.8333      2.546     12.505      0.000      26.075      37.592\n",
              "Gender[T.Male]    -5.0000      0.458    -10.914      0.000      -6.036      -3.964\n",
              "Income             0.3000      0.028     10.694      0.000       0.237       0.363\n",
              "==============================================================================\n",
              "Omnibus:                        0.407   Durbin-Watson:                   2.294\n",
              "Prob(Omnibus):                  0.816   Jarque-Bera (JB):                0.503\n",
              "Skew:                           0.228   Prob(JB):                        0.778\n",
              "Kurtosis:                       2.107   Cond. No.                     1.00e+03\n",
              "==============================================================================\n",
              "\n",
              "Notes:\n",
              "[1] Standard Errors assume that the covariance matrix of the errors is correctly specified.\n",
              "[2] The condition number is large,  1e+03. This might indicate that there are\n",
              "strong multicollinearity or other numerical problems.\n",
              "\"\"\""
            ],
            "text/html": [
              "<table class=\"simpletable\">\n",
              "<caption>OLS Regression Results</caption>\n",
              "<tr>\n",
              "  <th>Dep. Variable:</th>       <td>Consumption</td>   <th>  R-squared:         </th> <td>   0.963</td>\n",
              "</tr>\n",
              "<tr>\n",
              "  <th>Model:</th>                   <td>OLS</td>       <th>  Adj. R-squared:    </th> <td>   0.955</td>\n",
              "</tr>\n",
              "<tr>\n",
              "  <th>Method:</th>             <td>Least Squares</td>  <th>  F-statistic:       </th> <td>   116.7</td>\n",
              "</tr>\n",
              "<tr>\n",
              "  <th>Date:</th>             <td>Wed, 23 Nov 2022</td> <th>  Prob (F-statistic):</th> <td>3.66e-07</td>\n",
              "</tr>\n",
              "<tr>\n",
              "  <th>Time:</th>                 <td>02:03:57</td>     <th>  Log-Likelihood:    </th> <td> -12.525</td>\n",
              "</tr>\n",
              "<tr>\n",
              "  <th>No. Observations:</th>      <td>    12</td>      <th>  AIC:               </th> <td>   31.05</td>\n",
              "</tr>\n",
              "<tr>\n",
              "  <th>Df Residuals:</th>          <td>     9</td>      <th>  BIC:               </th> <td>   32.51</td>\n",
              "</tr>\n",
              "<tr>\n",
              "  <th>Df Model:</th>              <td>     2</td>      <th>                     </th>     <td> </td>   \n",
              "</tr>\n",
              "<tr>\n",
              "  <th>Covariance Type:</th>      <td>nonrobust</td>    <th>                     </th>     <td> </td>   \n",
              "</tr>\n",
              "</table>\n",
              "<table class=\"simpletable\">\n",
              "<tr>\n",
              "         <td></td>           <th>coef</th>     <th>std err</th>      <th>t</th>      <th>P>|t|</th>  <th>[0.025</th>    <th>0.975]</th>  \n",
              "</tr>\n",
              "<tr>\n",
              "  <th>Intercept</th>      <td>   31.8333</td> <td>    2.546</td> <td>   12.505</td> <td> 0.000</td> <td>   26.075</td> <td>   37.592</td>\n",
              "</tr>\n",
              "<tr>\n",
              "  <th>Gender[T.Male]</th> <td>   -5.0000</td> <td>    0.458</td> <td>  -10.914</td> <td> 0.000</td> <td>   -6.036</td> <td>   -3.964</td>\n",
              "</tr>\n",
              "<tr>\n",
              "  <th>Income</th>         <td>    0.3000</td> <td>    0.028</td> <td>   10.694</td> <td> 0.000</td> <td>    0.237</td> <td>    0.363</td>\n",
              "</tr>\n",
              "</table>\n",
              "<table class=\"simpletable\">\n",
              "<tr>\n",
              "  <th>Omnibus:</th>       <td> 0.407</td> <th>  Durbin-Watson:     </th> <td>   2.294</td>\n",
              "</tr>\n",
              "<tr>\n",
              "  <th>Prob(Omnibus):</th> <td> 0.816</td> <th>  Jarque-Bera (JB):  </th> <td>   0.503</td>\n",
              "</tr>\n",
              "<tr>\n",
              "  <th>Skew:</th>          <td> 0.228</td> <th>  Prob(JB):          </th> <td>   0.778</td>\n",
              "</tr>\n",
              "<tr>\n",
              "  <th>Kurtosis:</th>      <td> 2.107</td> <th>  Cond. No.          </th> <td>1.00e+03</td>\n",
              "</tr>\n",
              "</table><br/><br/>Notes:<br/>[1] Standard Errors assume that the covariance matrix of the errors is correctly specified.<br/>[2] The condition number is large,  1e+03. This might indicate that there are<br/>strong multicollinearity or other numerical problems."
            ]
          },
          "metadata": {},
          "execution_count": 28
        }
      ]
    }
  ],
  "metadata": {
    "celltoolbar": "Slideshow",
    "kernelspec": {
      "display_name": "Python 3 (ipykernel)",
      "language": "python",
      "name": "python3"
    },
    "language_info": {
      "codemirror_mode": {
        "name": "ipython",
        "version": 3
      },
      "file_extension": ".py",
      "mimetype": "text/x-python",
      "name": "python",
      "nbconvert_exporter": "python",
      "pygments_lexer": "ipython3",
      "version": "3.9.7"
    },
    "latex_envs": {
      "LaTeX_envs_menu_present": true,
      "autoclose": false,
      "autocomplete": true,
      "bibliofile": "biblio.bib",
      "cite_by": "apalike",
      "current_citInitial": 1,
      "eqLabelWithNumbers": true,
      "eqNumInitial": 1,
      "hotkeys": {
        "equation": "Ctrl-E",
        "itemize": "Ctrl-I"
      },
      "labels_anchors": false,
      "latex_user_defs": false,
      "report_style_numbering": false,
      "user_envs_cfg": false
    },
    "toc": {
      "base_numbering": 1,
      "nav_menu": {},
      "number_sections": false,
      "sideBar": true,
      "skip_h1_title": false,
      "title_cell": "Table of Contents",
      "title_sidebar": "Contents",
      "toc_cell": false,
      "toc_position": {},
      "toc_section_display": true,
      "toc_window_display": false
    },
    "colab": {
      "provenance": []
    }
  },
  "nbformat": 4,
  "nbformat_minor": 0
}