{
  "nbformat": 4,
  "nbformat_minor": 0,
  "metadata": {
    "colab": {
      "provenance": []
    },
    "kernelspec": {
      "name": "python3",
      "display_name": "Python 3"
    },
    "language_info": {
      "name": "python"
    }
  },
  "cells": [
    {
      "cell_type": "markdown",
      "source": [
        "## Modulo NumPY"
      ],
      "metadata": {
        "id": "1DO-X33lI68X"
      }
    },
    {
      "cell_type": "code",
      "execution_count": null,
      "metadata": {
        "id": "nDE5FD8py0gy"
      },
      "outputs": [],
      "source": [
        "import numpy as np"
      ]
    },
    {
      "cell_type": "code",
      "source": [
        "np.random.random()"
      ],
      "metadata": {
        "colab": {
          "base_uri": "https://localhost:8080/"
        },
        "id": "BCY8uHHVzDUJ",
        "outputId": "31555a7b-5a75-46e1-e7cd-f6dd27d54f6a"
      },
      "execution_count": null,
      "outputs": [
        {
          "output_type": "execute_result",
          "data": {
            "text/plain": [
              "0.8905010931873449"
            ]
          },
          "metadata": {},
          "execution_count": 25
        }
      ]
    },
    {
      "cell_type": "code",
      "source": [
        "np.random.randint(2,7)"
      ],
      "metadata": {
        "colab": {
          "base_uri": "https://localhost:8080/"
        },
        "outputId": "bbac6322-484e-43f8-9978-a53d5eb45e80",
        "id": "1MxRnF4Wz4Hl"
      },
      "execution_count": null,
      "outputs": [
        {
          "output_type": "execute_result",
          "data": {
            "text/plain": [
              "2"
            ]
          },
          "metadata": {},
          "execution_count": 5
        }
      ]
    },
    {
      "cell_type": "code",
      "source": [
        "#Creación de lista en aleatorio\n",
        "Enteros_aleatorios = [ ]\n",
        "for i in range(1,11):\n",
        "  rint= np.random.randint(1,20)\n",
        "  Enteros_aleatorios.append(rint)"
      ],
      "metadata": {
        "id": "WP8WDQN61ADp"
      },
      "execution_count": null,
      "outputs": []
    },
    {
      "cell_type": "code",
      "source": [
        "Enteros_aleatorios"
      ],
      "metadata": {
        "colab": {
          "base_uri": "https://localhost:8080/"
        },
        "id": "dbo84wQ_1dqE",
        "outputId": "c5c08531-462e-45d9-97fc-67a568f4494e"
      },
      "execution_count": null,
      "outputs": [
        {
          "output_type": "execute_result",
          "data": {
            "text/plain": [
              "[14, 5, 6, 14, 18, 16, 16, 6, 18, 1]"
            ]
          },
          "metadata": {},
          "execution_count": 7
        }
      ]
    },
    {
      "cell_type": "code",
      "source": [
        "type(Enteros_aleatorios)"
      ],
      "metadata": {
        "colab": {
          "base_uri": "https://localhost:8080/"
        },
        "id": "_d6RJNL-1fRF",
        "outputId": "2efbd5c4-4509-4680-f043-263d3b4d5a19"
      },
      "execution_count": null,
      "outputs": [
        {
          "output_type": "execute_result",
          "data": {
            "text/plain": [
              "list"
            ]
          },
          "metadata": {},
          "execution_count": 8
        }
      ]
    },
    {
      "cell_type": "code",
      "source": [
        "L1 = np.array ([4,3,7])\n",
        "L2 = np.array ([9,5,8])"
      ],
      "metadata": {
        "id": "lQi9rNb229Kh"
      },
      "execution_count": null,
      "outputs": []
    },
    {
      "cell_type": "code",
      "source": [
        "L1 + L2"
      ],
      "metadata": {
        "colab": {
          "base_uri": "https://localhost:8080/"
        },
        "id": "M7rWCvMi29I6",
        "outputId": "834bac39-a9b7-492a-909e-cfb5c620a797"
      },
      "execution_count": null,
      "outputs": [
        {
          "output_type": "execute_result",
          "data": {
            "text/plain": [
              "array([13,  8, 15])"
            ]
          },
          "metadata": {},
          "execution_count": 10
        }
      ]
    },
    {
      "cell_type": "code",
      "source": [],
      "metadata": {
        "id": "d5vJDCt84OH2"
      },
      "execution_count": null,
      "outputs": []
    },
    {
      "cell_type": "code",
      "source": [
        "len(Enteros_aleatorios)"
      ],
      "metadata": {
        "colab": {
          "base_uri": "https://localhost:8080/"
        },
        "id": "J1I3rv5K3zco",
        "outputId": "e436bd59-585d-42e2-fdca-a4c0712351b7"
      },
      "execution_count": null,
      "outputs": [
        {
          "output_type": "execute_result",
          "data": {
            "text/plain": [
              "10"
            ]
          },
          "metadata": {},
          "execution_count": 11
        }
      ]
    },
    {
      "cell_type": "code",
      "source": [
        "Enteros_aleatorios_arreglo = np.array(Enteros_aleatorios)\n",
        "Enteros_aleatorios_arreglo"
      ],
      "metadata": {
        "colab": {
          "base_uri": "https://localhost:8080/"
        },
        "id": "6Ahn3ld_39Wn",
        "outputId": "2c8997a9-a88e-49c9-a7ac-64d08b3abe07"
      },
      "execution_count": null,
      "outputs": [
        {
          "output_type": "execute_result",
          "data": {
            "text/plain": [
              "array([14,  5,  6, 14, 18, 16, 16,  6, 18,  1])"
            ]
          },
          "metadata": {},
          "execution_count": 12
        }
      ]
    },
    {
      "cell_type": "code",
      "source": [
        "#Creamos una matriz a partir de el arreglo anterior\n",
        "\n",
        "matriz1 =Enteros_aleatorios_arreglo.reshape(5,2)\n",
        "\n",
        "matriz1"
      ],
      "metadata": {
        "colab": {
          "base_uri": "https://localhost:8080/"
        },
        "id": "o6lS9L5X4c9F",
        "outputId": "f2d0e62b-3d73-482a-a330-05649406ebc5"
      },
      "execution_count": null,
      "outputs": [
        {
          "output_type": "execute_result",
          "data": {
            "text/plain": [
              "array([[14,  5],\n",
              "       [ 6, 14],\n",
              "       [18, 16],\n",
              "       [16,  6],\n",
              "       [18,  1]])"
            ]
          },
          "metadata": {},
          "execution_count": 13
        }
      ]
    },
    {
      "cell_type": "code",
      "source": [
        "#Crear una matriz cuadrada de tamaño 4x4 cuyos\n",
        "#elementos se elijan al azr entre 1 y 20\n",
        "\n",
        "m = [ ]\n",
        "\n",
        "for i in range (1,17):\n",
        "  x= np.random.randint(1,21)\n",
        "  m.append(x) \n",
        "\n",
        "m_arreglo = np.array(m)\n",
        "\n",
        "matriz2 = m_arreglo.reshape(4,4)\n",
        "matriz2"
      ],
      "metadata": {
        "colab": {
          "base_uri": "https://localhost:8080/"
        },
        "id": "3z2pYsVV5C2c",
        "outputId": "76ff8314-3c0c-4448-bfcf-2b7e35feaf3c"
      },
      "execution_count": null,
      "outputs": [
        {
          "output_type": "execute_result",
          "data": {
            "text/plain": [
              "array([[11, 11, 19,  7],\n",
              "       [17,  3,  7,  1],\n",
              "       [18,  4, 13, 19],\n",
              "       [ 7, 15, 11, 13]])"
            ]
          },
          "metadata": {},
          "execution_count": 14
        }
      ]
    },
    {
      "cell_type": "code",
      "source": [
        "np.linalg.det(matriz2)"
      ],
      "metadata": {
        "colab": {
          "base_uri": "https://localhost:8080/"
        },
        "id": "oKdZZ2vT7eV9",
        "outputId": "567704ce-82f9-48ad-dbda-9d778245dd02"
      },
      "execution_count": null,
      "outputs": [
        {
          "output_type": "execute_result",
          "data": {
            "text/plain": [
              "-39020.00000000004"
            ]
          },
          "metadata": {},
          "execution_count": 15
        }
      ]
    },
    {
      "cell_type": "code",
      "source": [
        "np.linalg.inv(matriz2)"
      ],
      "metadata": {
        "colab": {
          "base_uri": "https://localhost:8080/"
        },
        "id": "w365d_gn71oM",
        "outputId": "abd9ce52-d36d-4928-aca7-4f7707437118"
      },
      "execution_count": null,
      "outputs": [
        {
          "output_type": "execute_result",
          "data": {
            "text/plain": [
              "array([[-0.03485392,  0.0750897 ,  0.00205023,  0.00999487],\n",
              "       [-0.03280369,  0.04126089, -0.0568939 ,  0.09764223],\n",
              "       [ 0.10307535, -0.05074321,  0.0115838 , -0.06852896],\n",
              "       [-0.03059969, -0.04510507,  0.05474116,  0.01686315]])"
            ]
          },
          "metadata": {},
          "execution_count": 16
        }
      ]
    },
    {
      "cell_type": "code",
      "source": [
        "matriz3 = m_arreglo.reshape(2,8)\n",
        "matriz3"
      ],
      "metadata": {
        "colab": {
          "base_uri": "https://localhost:8080/"
        },
        "id": "e5lN7vU_8dBa",
        "outputId": "33f5e036-a245-49e2-d995-5c40a36f8997"
      },
      "execution_count": null,
      "outputs": [
        {
          "output_type": "execute_result",
          "data": {
            "text/plain": [
              "array([[11, 11, 19,  7, 17,  3,  7,  1],\n",
              "       [18,  4, 13, 19,  7, 15, 11, 13]])"
            ]
          },
          "metadata": {},
          "execution_count": 17
        }
      ]
    },
    {
      "cell_type": "code",
      "source": [
        "np.matmul(matriz1,matriz3)"
      ],
      "metadata": {
        "colab": {
          "base_uri": "https://localhost:8080/"
        },
        "id": "PmC0P_Kx8xIa",
        "outputId": "66eb5094-7d00-4c5e-b0c4-1228f31d6135"
      },
      "execution_count": null,
      "outputs": [
        {
          "output_type": "execute_result",
          "data": {
            "text/plain": [
              "array([[244, 174, 331, 193, 273, 117, 153,  79],\n",
              "       [318, 122, 296, 308, 200, 228, 196, 188],\n",
              "       [486, 262, 550, 430, 418, 294, 302, 226],\n",
              "       [284, 200, 382, 226, 314, 138, 178,  94],\n",
              "       [216, 202, 355, 145, 313,  69, 137,  31]])"
            ]
          },
          "metadata": {},
          "execution_count": 18
        }
      ]
    },
    {
      "cell_type": "code",
      "source": [
        "# Vamos a crear una matriz cuyos elementos registren el\n",
        "# resultado de volados\n",
        "import pandas as pd\n",
        "\n",
        "df50 = pd.DataFrame()\n",
        "\n",
        "for i in range(1,11):\n",
        "  volados_muestra = np.random.binomial(1,0.5,5)\n",
        "  col = f\"muestras {i}\"\n",
        "  df50[col]=volados_muestra\n",
        "\n",
        "df50"
      ],
      "metadata": {
        "colab": {
          "base_uri": "https://localhost:8080/",
          "height": 287
        },
        "id": "-wDMUnfM9-WO",
        "outputId": "a4f6cea4-582e-4233-a836-154f403f3c93"
      },
      "execution_count": null,
      "outputs": [
        {
          "output_type": "execute_result",
          "data": {
            "text/plain": [
              "   muestras 1  muestras 2  muestras 3  muestras 4  muestras 5  muestras 6  \\\n",
              "0           0           1           1           0           1           1   \n",
              "1           0           1           0           0           0           1   \n",
              "2           1           0           0           1           1           1   \n",
              "3           0           0           1           0           1           1   \n",
              "4           0           0           1           0           0           1   \n",
              "\n",
              "   muestras 7  muestras 8  muestras 9  muestras 10  \n",
              "0           1           0           0            1  \n",
              "1           0           1           1            1  \n",
              "2           0           0           0            0  \n",
              "3           0           1           0            1  \n",
              "4           0           0           1            1  "
            ],
            "text/html": [
              "\n",
              "  <div id=\"df-515b2a9b-b9e6-4a37-882a-efad1b16b49f\">\n",
              "    <div class=\"colab-df-container\">\n",
              "      <div>\n",
              "<style scoped>\n",
              "    .dataframe tbody tr th:only-of-type {\n",
              "        vertical-align: middle;\n",
              "    }\n",
              "\n",
              "    .dataframe tbody tr th {\n",
              "        vertical-align: top;\n",
              "    }\n",
              "\n",
              "    .dataframe thead th {\n",
              "        text-align: right;\n",
              "    }\n",
              "</style>\n",
              "<table border=\"1\" class=\"dataframe\">\n",
              "  <thead>\n",
              "    <tr style=\"text-align: right;\">\n",
              "      <th></th>\n",
              "      <th>muestras 1</th>\n",
              "      <th>muestras 2</th>\n",
              "      <th>muestras 3</th>\n",
              "      <th>muestras 4</th>\n",
              "      <th>muestras 5</th>\n",
              "      <th>muestras 6</th>\n",
              "      <th>muestras 7</th>\n",
              "      <th>muestras 8</th>\n",
              "      <th>muestras 9</th>\n",
              "      <th>muestras 10</th>\n",
              "    </tr>\n",
              "  </thead>\n",
              "  <tbody>\n",
              "    <tr>\n",
              "      <th>0</th>\n",
              "      <td>0</td>\n",
              "      <td>1</td>\n",
              "      <td>1</td>\n",
              "      <td>0</td>\n",
              "      <td>1</td>\n",
              "      <td>1</td>\n",
              "      <td>1</td>\n",
              "      <td>0</td>\n",
              "      <td>0</td>\n",
              "      <td>1</td>\n",
              "    </tr>\n",
              "    <tr>\n",
              "      <th>1</th>\n",
              "      <td>0</td>\n",
              "      <td>1</td>\n",
              "      <td>0</td>\n",
              "      <td>0</td>\n",
              "      <td>0</td>\n",
              "      <td>1</td>\n",
              "      <td>0</td>\n",
              "      <td>1</td>\n",
              "      <td>1</td>\n",
              "      <td>1</td>\n",
              "    </tr>\n",
              "    <tr>\n",
              "      <th>2</th>\n",
              "      <td>1</td>\n",
              "      <td>0</td>\n",
              "      <td>0</td>\n",
              "      <td>1</td>\n",
              "      <td>1</td>\n",
              "      <td>1</td>\n",
              "      <td>0</td>\n",
              "      <td>0</td>\n",
              "      <td>0</td>\n",
              "      <td>0</td>\n",
              "    </tr>\n",
              "    <tr>\n",
              "      <th>3</th>\n",
              "      <td>0</td>\n",
              "      <td>0</td>\n",
              "      <td>1</td>\n",
              "      <td>0</td>\n",
              "      <td>1</td>\n",
              "      <td>1</td>\n",
              "      <td>0</td>\n",
              "      <td>1</td>\n",
              "      <td>0</td>\n",
              "      <td>1</td>\n",
              "    </tr>\n",
              "    <tr>\n",
              "      <th>4</th>\n",
              "      <td>0</td>\n",
              "      <td>0</td>\n",
              "      <td>1</td>\n",
              "      <td>0</td>\n",
              "      <td>0</td>\n",
              "      <td>1</td>\n",
              "      <td>0</td>\n",
              "      <td>0</td>\n",
              "      <td>1</td>\n",
              "      <td>1</td>\n",
              "    </tr>\n",
              "  </tbody>\n",
              "</table>\n",
              "</div>\n",
              "      <button class=\"colab-df-convert\" onclick=\"convertToInteractive('df-515b2a9b-b9e6-4a37-882a-efad1b16b49f')\"\n",
              "              title=\"Convert this dataframe to an interactive table.\"\n",
              "              style=\"display:none;\">\n",
              "        \n",
              "  <svg xmlns=\"http://www.w3.org/2000/svg\" height=\"24px\"viewBox=\"0 0 24 24\"\n",
              "       width=\"24px\">\n",
              "    <path d=\"M0 0h24v24H0V0z\" fill=\"none\"/>\n",
              "    <path d=\"M18.56 5.44l.94 2.06.94-2.06 2.06-.94-2.06-.94-.94-2.06-.94 2.06-2.06.94zm-11 1L8.5 8.5l.94-2.06 2.06-.94-2.06-.94L8.5 2.5l-.94 2.06-2.06.94zm10 10l.94 2.06.94-2.06 2.06-.94-2.06-.94-.94-2.06-.94 2.06-2.06.94z\"/><path d=\"M17.41 7.96l-1.37-1.37c-.4-.4-.92-.59-1.43-.59-.52 0-1.04.2-1.43.59L10.3 9.45l-7.72 7.72c-.78.78-.78 2.05 0 2.83L4 21.41c.39.39.9.59 1.41.59.51 0 1.02-.2 1.41-.59l7.78-7.78 2.81-2.81c.8-.78.8-2.07 0-2.86zM5.41 20L4 18.59l7.72-7.72 1.47 1.35L5.41 20z\"/>\n",
              "  </svg>\n",
              "      </button>\n",
              "      \n",
              "  <style>\n",
              "    .colab-df-container {\n",
              "      display:flex;\n",
              "      flex-wrap:wrap;\n",
              "      gap: 12px;\n",
              "    }\n",
              "\n",
              "    .colab-df-convert {\n",
              "      background-color: #E8F0FE;\n",
              "      border: none;\n",
              "      border-radius: 50%;\n",
              "      cursor: pointer;\n",
              "      display: none;\n",
              "      fill: #1967D2;\n",
              "      height: 32px;\n",
              "      padding: 0 0 0 0;\n",
              "      width: 32px;\n",
              "    }\n",
              "\n",
              "    .colab-df-convert:hover {\n",
              "      background-color: #E2EBFA;\n",
              "      box-shadow: 0px 1px 2px rgba(60, 64, 67, 0.3), 0px 1px 3px 1px rgba(60, 64, 67, 0.15);\n",
              "      fill: #174EA6;\n",
              "    }\n",
              "\n",
              "    [theme=dark] .colab-df-convert {\n",
              "      background-color: #3B4455;\n",
              "      fill: #D2E3FC;\n",
              "    }\n",
              "\n",
              "    [theme=dark] .colab-df-convert:hover {\n",
              "      background-color: #434B5C;\n",
              "      box-shadow: 0px 1px 3px 1px rgba(0, 0, 0, 0.15);\n",
              "      filter: drop-shadow(0px 1px 2px rgba(0, 0, 0, 0.3));\n",
              "      fill: #FFFFFF;\n",
              "    }\n",
              "  </style>\n",
              "\n",
              "      <script>\n",
              "        const buttonEl =\n",
              "          document.querySelector('#df-515b2a9b-b9e6-4a37-882a-efad1b16b49f button.colab-df-convert');\n",
              "        buttonEl.style.display =\n",
              "          google.colab.kernel.accessAllowed ? 'block' : 'none';\n",
              "\n",
              "        async function convertToInteractive(key) {\n",
              "          const element = document.querySelector('#df-515b2a9b-b9e6-4a37-882a-efad1b16b49f');\n",
              "          const dataTable =\n",
              "            await google.colab.kernel.invokeFunction('convertToInteractive',\n",
              "                                                     [key], {});\n",
              "          if (!dataTable) return;\n",
              "\n",
              "          const docLinkHtml = 'Like what you see? Visit the ' +\n",
              "            '<a target=\"_blank\" href=https://colab.research.google.com/notebooks/data_table.ipynb>data table notebook</a>'\n",
              "            + ' to learn more about interactive tables.';\n",
              "          element.innerHTML = '';\n",
              "          dataTable['output_type'] = 'display_data';\n",
              "          await google.colab.output.renderOutput(dataTable, element);\n",
              "          const docLink = document.createElement('div');\n",
              "          docLink.innerHTML = docLinkHtml;\n",
              "          element.appendChild(docLink);\n",
              "        }\n",
              "      </script>\n",
              "    </div>\n",
              "  </div>\n",
              "  "
            ]
          },
          "metadata": {},
          "execution_count": 19
        }
      ]
    },
    {
      "cell_type": "code",
      "source": [
        "df50_medias = pd.DataFrame(df50.mean(),columns = [\"muestra de medias\"])\n",
        "\n",
        "df50_medias"
      ],
      "metadata": {
        "colab": {
          "base_uri": "https://localhost:8080/",
          "height": 363
        },
        "id": "hToQ9HHNjYZt",
        "outputId": "22c3ab5d-9745-4326-a244-5bd13f9771a4"
      },
      "execution_count": null,
      "outputs": [
        {
          "output_type": "execute_result",
          "data": {
            "text/plain": [
              "             muestra de medias\n",
              "muestras 1                 0.2\n",
              "muestras 2                 0.4\n",
              "muestras 3                 0.6\n",
              "muestras 4                 0.2\n",
              "muestras 5                 0.6\n",
              "muestras 6                 1.0\n",
              "muestras 7                 0.2\n",
              "muestras 8                 0.4\n",
              "muestras 9                 0.4\n",
              "muestras 10                0.8"
            ],
            "text/html": [
              "\n",
              "  <div id=\"df-7405fee9-dd7c-4de2-b6e2-1c75c0cc1a1a\">\n",
              "    <div class=\"colab-df-container\">\n",
              "      <div>\n",
              "<style scoped>\n",
              "    .dataframe tbody tr th:only-of-type {\n",
              "        vertical-align: middle;\n",
              "    }\n",
              "\n",
              "    .dataframe tbody tr th {\n",
              "        vertical-align: top;\n",
              "    }\n",
              "\n",
              "    .dataframe thead th {\n",
              "        text-align: right;\n",
              "    }\n",
              "</style>\n",
              "<table border=\"1\" class=\"dataframe\">\n",
              "  <thead>\n",
              "    <tr style=\"text-align: right;\">\n",
              "      <th></th>\n",
              "      <th>muestra de medias</th>\n",
              "    </tr>\n",
              "  </thead>\n",
              "  <tbody>\n",
              "    <tr>\n",
              "      <th>muestras 1</th>\n",
              "      <td>0.2</td>\n",
              "    </tr>\n",
              "    <tr>\n",
              "      <th>muestras 2</th>\n",
              "      <td>0.4</td>\n",
              "    </tr>\n",
              "    <tr>\n",
              "      <th>muestras 3</th>\n",
              "      <td>0.6</td>\n",
              "    </tr>\n",
              "    <tr>\n",
              "      <th>muestras 4</th>\n",
              "      <td>0.2</td>\n",
              "    </tr>\n",
              "    <tr>\n",
              "      <th>muestras 5</th>\n",
              "      <td>0.6</td>\n",
              "    </tr>\n",
              "    <tr>\n",
              "      <th>muestras 6</th>\n",
              "      <td>1.0</td>\n",
              "    </tr>\n",
              "    <tr>\n",
              "      <th>muestras 7</th>\n",
              "      <td>0.2</td>\n",
              "    </tr>\n",
              "    <tr>\n",
              "      <th>muestras 8</th>\n",
              "      <td>0.4</td>\n",
              "    </tr>\n",
              "    <tr>\n",
              "      <th>muestras 9</th>\n",
              "      <td>0.4</td>\n",
              "    </tr>\n",
              "    <tr>\n",
              "      <th>muestras 10</th>\n",
              "      <td>0.8</td>\n",
              "    </tr>\n",
              "  </tbody>\n",
              "</table>\n",
              "</div>\n",
              "      <button class=\"colab-df-convert\" onclick=\"convertToInteractive('df-7405fee9-dd7c-4de2-b6e2-1c75c0cc1a1a')\"\n",
              "              title=\"Convert this dataframe to an interactive table.\"\n",
              "              style=\"display:none;\">\n",
              "        \n",
              "  <svg xmlns=\"http://www.w3.org/2000/svg\" height=\"24px\"viewBox=\"0 0 24 24\"\n",
              "       width=\"24px\">\n",
              "    <path d=\"M0 0h24v24H0V0z\" fill=\"none\"/>\n",
              "    <path d=\"M18.56 5.44l.94 2.06.94-2.06 2.06-.94-2.06-.94-.94-2.06-.94 2.06-2.06.94zm-11 1L8.5 8.5l.94-2.06 2.06-.94-2.06-.94L8.5 2.5l-.94 2.06-2.06.94zm10 10l.94 2.06.94-2.06 2.06-.94-2.06-.94-.94-2.06-.94 2.06-2.06.94z\"/><path d=\"M17.41 7.96l-1.37-1.37c-.4-.4-.92-.59-1.43-.59-.52 0-1.04.2-1.43.59L10.3 9.45l-7.72 7.72c-.78.78-.78 2.05 0 2.83L4 21.41c.39.39.9.59 1.41.59.51 0 1.02-.2 1.41-.59l7.78-7.78 2.81-2.81c.8-.78.8-2.07 0-2.86zM5.41 20L4 18.59l7.72-7.72 1.47 1.35L5.41 20z\"/>\n",
              "  </svg>\n",
              "      </button>\n",
              "      \n",
              "  <style>\n",
              "    .colab-df-container {\n",
              "      display:flex;\n",
              "      flex-wrap:wrap;\n",
              "      gap: 12px;\n",
              "    }\n",
              "\n",
              "    .colab-df-convert {\n",
              "      background-color: #E8F0FE;\n",
              "      border: none;\n",
              "      border-radius: 50%;\n",
              "      cursor: pointer;\n",
              "      display: none;\n",
              "      fill: #1967D2;\n",
              "      height: 32px;\n",
              "      padding: 0 0 0 0;\n",
              "      width: 32px;\n",
              "    }\n",
              "\n",
              "    .colab-df-convert:hover {\n",
              "      background-color: #E2EBFA;\n",
              "      box-shadow: 0px 1px 2px rgba(60, 64, 67, 0.3), 0px 1px 3px 1px rgba(60, 64, 67, 0.15);\n",
              "      fill: #174EA6;\n",
              "    }\n",
              "\n",
              "    [theme=dark] .colab-df-convert {\n",
              "      background-color: #3B4455;\n",
              "      fill: #D2E3FC;\n",
              "    }\n",
              "\n",
              "    [theme=dark] .colab-df-convert:hover {\n",
              "      background-color: #434B5C;\n",
              "      box-shadow: 0px 1px 3px 1px rgba(0, 0, 0, 0.15);\n",
              "      filter: drop-shadow(0px 1px 2px rgba(0, 0, 0, 0.3));\n",
              "      fill: #FFFFFF;\n",
              "    }\n",
              "  </style>\n",
              "\n",
              "      <script>\n",
              "        const buttonEl =\n",
              "          document.querySelector('#df-7405fee9-dd7c-4de2-b6e2-1c75c0cc1a1a button.colab-df-convert');\n",
              "        buttonEl.style.display =\n",
              "          google.colab.kernel.accessAllowed ? 'block' : 'none';\n",
              "\n",
              "        async function convertToInteractive(key) {\n",
              "          const element = document.querySelector('#df-7405fee9-dd7c-4de2-b6e2-1c75c0cc1a1a');\n",
              "          const dataTable =\n",
              "            await google.colab.kernel.invokeFunction('convertToInteractive',\n",
              "                                                     [key], {});\n",
              "          if (!dataTable) return;\n",
              "\n",
              "          const docLinkHtml = 'Like what you see? Visit the ' +\n",
              "            '<a target=\"_blank\" href=https://colab.research.google.com/notebooks/data_table.ipynb>data table notebook</a>'\n",
              "            + ' to learn more about interactive tables.';\n",
              "          element.innerHTML = '';\n",
              "          dataTable['output_type'] = 'display_data';\n",
              "          await google.colab.output.renderOutput(dataTable, element);\n",
              "          const docLink = document.createElement('div');\n",
              "          docLink.innerHTML = docLinkHtml;\n",
              "          element.appendChild(docLink);\n",
              "        }\n",
              "      </script>\n",
              "    </div>\n",
              "  </div>\n",
              "  "
            ]
          },
          "metadata": {},
          "execution_count": 21
        }
      ]
    },
    {
      "cell_type": "code",
      "source": [
        "import seaborn as sns\n",
        "\n",
        "sns.displot(df50_medias);"
      ],
      "metadata": {
        "colab": {
          "base_uri": "https://localhost:8080/",
          "height": 369
        },
        "id": "3JkUEUoaliCo",
        "outputId": "508fc80a-5d34-4bf1-a5c8-7d809e7b38d5"
      },
      "execution_count": null,
      "outputs": [
        {
          "output_type": "display_data",
          "data": {
            "text/plain": [
              "<Figure size 492.625x360 with 1 Axes>"
            ],
            "image/png": "[encoded data removed]"
          },
          "metadata": {
            "needs_background": "light"
          }
        }
      ]
    },
    {
      "cell_type": "code",
      "source": [
        "# Vamos a crear una matriz cuyos elementos registren el\n",
        "# resultado de volados\n",
        "# en este caso vamos a hacer el ejercicio 50 veces\n",
        "import pandas as pd\n",
        "\n",
        "df50 = pd.DataFrame()\n",
        "\n",
        "for i in range(1,11):\n",
        "  volados_muestra = np.random.binomial(50,0.5,5)\n",
        "  col = f\"muestras {i}\"\n",
        "  df50[col]=volados_muestra\n",
        "\n",
        "df50"
      ],
      "metadata": {
        "colab": {
          "base_uri": "https://localhost:8080/",
          "height": 287
        },
        "outputId": "18893c8e-588b-424e-af99-a14635dec1ca",
        "id": "oA8tuGA2nERR"
      },
      "execution_count": null,
      "outputs": [
        {
          "output_type": "execute_result",
          "data": {
            "text/plain": [
              "   muestras 1  muestras 2  muestras 3  muestras 4  muestras 5  muestras 6  \\\n",
              "0          24          29          26          28          18          25   \n",
              "1          25          21          28          27          18          26   \n",
              "2          18          27          24          24          27          27   \n",
              "3          18          27          23          22          28          24   \n",
              "4          21          21          26          22          28          25   \n",
              "\n",
              "   muestras 7  muestras 8  muestras 9  muestras 10  \n",
              "0          24          29          18           31  \n",
              "1          25          21          22           23  \n",
              "2          21          28          29           19  \n",
              "3          24          23          22           23  \n",
              "4          31          32          18           19  "
            ],
            "text/html": [
              "\n",
              "  <div id=\"df-704f8a39-c9a4-47a6-bf2f-e38e3edbe9d7\">\n",
              "    <div class=\"colab-df-container\">\n",
              "      <div>\n",
              "<style scoped>\n",
              "    .dataframe tbody tr th:only-of-type {\n",
              "        vertical-align: middle;\n",
              "    }\n",
              "\n",
              "    .dataframe tbody tr th {\n",
              "        vertical-align: top;\n",
              "    }\n",
              "\n",
              "    .dataframe thead th {\n",
              "        text-align: right;\n",
              "    }\n",
              "</style>\n",
              "<table border=\"1\" class=\"dataframe\">\n",
              "  <thead>\n",
              "    <tr style=\"text-align: right;\">\n",
              "      <th></th>\n",
              "      <th>muestras 1</th>\n",
              "      <th>muestras 2</th>\n",
              "      <th>muestras 3</th>\n",
              "      <th>muestras 4</th>\n",
              "      <th>muestras 5</th>\n",
              "      <th>muestras 6</th>\n",
              "      <th>muestras 7</th>\n",
              "      <th>muestras 8</th>\n",
              "      <th>muestras 9</th>\n",
              "      <th>muestras 10</th>\n",
              "    </tr>\n",
              "  </thead>\n",
              "  <tbody>\n",
              "    <tr>\n",
              "      <th>0</th>\n",
              "      <td>24</td>\n",
              "      <td>29</td>\n",
              "      <td>26</td>\n",
              "      <td>28</td>\n",
              "      <td>18</td>\n",
              "      <td>25</td>\n",
              "      <td>24</td>\n",
              "      <td>29</td>\n",
              "      <td>18</td>\n",
              "      <td>31</td>\n",
              "    </tr>\n",
              "    <tr>\n",
              "      <th>1</th>\n",
              "      <td>25</td>\n",
              "      <td>21</td>\n",
              "      <td>28</td>\n",
              "      <td>27</td>\n",
              "      <td>18</td>\n",
              "      <td>26</td>\n",
              "      <td>25</td>\n",
              "      <td>21</td>\n",
              "      <td>22</td>\n",
              "      <td>23</td>\n",
              "    </tr>\n",
              "    <tr>\n",
              "      <th>2</th>\n",
              "      <td>18</td>\n",
              "      <td>27</td>\n",
              "      <td>24</td>\n",
              "      <td>24</td>\n",
              "      <td>27</td>\n",
              "      <td>27</td>\n",
              "      <td>21</td>\n",
              "      <td>28</td>\n",
              "      <td>29</td>\n",
              "      <td>19</td>\n",
              "    </tr>\n",
              "    <tr>\n",
              "      <th>3</th>\n",
              "      <td>18</td>\n",
              "      <td>27</td>\n",
              "      <td>23</td>\n",
              "      <td>22</td>\n",
              "      <td>28</td>\n",
              "      <td>24</td>\n",
              "      <td>24</td>\n",
              "      <td>23</td>\n",
              "      <td>22</td>\n",
              "      <td>23</td>\n",
              "    </tr>\n",
              "    <tr>\n",
              "      <th>4</th>\n",
              "      <td>21</td>\n",
              "      <td>21</td>\n",
              "      <td>26</td>\n",
              "      <td>22</td>\n",
              "      <td>28</td>\n",
              "      <td>25</td>\n",
              "      <td>31</td>\n",
              "      <td>32</td>\n",
              "      <td>18</td>\n",
              "      <td>19</td>\n",
              "    </tr>\n",
              "  </tbody>\n",
              "</table>\n",
              "</div>\n",
              "      <button class=\"colab-df-convert\" onclick=\"convertToInteractive('df-704f8a39-c9a4-47a6-bf2f-e38e3edbe9d7')\"\n",
              "              title=\"Convert this dataframe to an interactive table.\"\n",
              "              style=\"display:none;\">\n",
              "        \n",
              "  <svg xmlns=\"http://www.w3.org/2000/svg\" height=\"24px\"viewBox=\"0 0 24 24\"\n",
              "       width=\"24px\">\n",
              "    <path d=\"M0 0h24v24H0V0z\" fill=\"none\"/>\n",
              "    <path d=\"M18.56 5.44l.94 2.06.94-2.06 2.06-.94-2.06-.94-.94-2.06-.94 2.06-2.06.94zm-11 1L8.5 8.5l.94-2.06 2.06-.94-2.06-.94L8.5 2.5l-.94 2.06-2.06.94zm10 10l.94 2.06.94-2.06 2.06-.94-2.06-.94-.94-2.06-.94 2.06-2.06.94z\"/><path d=\"M17.41 7.96l-1.37-1.37c-.4-.4-.92-.59-1.43-.59-.52 0-1.04.2-1.43.59L10.3 9.45l-7.72 7.72c-.78.78-.78 2.05 0 2.83L4 21.41c.39.39.9.59 1.41.59.51 0 1.02-.2 1.41-.59l7.78-7.78 2.81-2.81c.8-.78.8-2.07 0-2.86zM5.41 20L4 18.59l7.72-7.72 1.47 1.35L5.41 20z\"/>\n",
              "  </svg>\n",
              "      </button>\n",
              "      \n",
              "  <style>\n",
              "    .colab-df-container {\n",
              "      display:flex;\n",
              "      flex-wrap:wrap;\n",
              "      gap: 12px;\n",
              "    }\n",
              "\n",
              "    .colab-df-convert {\n",
              "      background-color: #E8F0FE;\n",
              "      border: none;\n",
              "      border-radius: 50%;\n",
              "      cursor: pointer;\n",
              "      display: none;\n",
              "      fill: #1967D2;\n",
              "      height: 32px;\n",
              "      padding: 0 0 0 0;\n",
              "      width: 32px;\n",
              "    }\n",
              "\n",
              "    .colab-df-convert:hover {\n",
              "      background-color: #E2EBFA;\n",
              "      box-shadow: 0px 1px 2px rgba(60, 64, 67, 0.3), 0px 1px 3px 1px rgba(60, 64, 67, 0.15);\n",
              "      fill: #174EA6;\n",
              "    }\n",
              "\n",
              "    [theme=dark] .colab-df-convert {\n",
              "      background-color: #3B4455;\n",
              "      fill: #D2E3FC;\n",
              "    }\n",
              "\n",
              "    [theme=dark] .colab-df-convert:hover {\n",
              "      background-color: #434B5C;\n",
              "      box-shadow: 0px 1px 3px 1px rgba(0, 0, 0, 0.15);\n",
              "      filter: drop-shadow(0px 1px 2px rgba(0, 0, 0, 0.3));\n",
              "      fill: #FFFFFF;\n",
              "    }\n",
              "  </style>\n",
              "\n",
              "      <script>\n",
              "        const buttonEl =\n",
              "          document.querySelector('#df-704f8a39-c9a4-47a6-bf2f-e38e3edbe9d7 button.colab-df-convert');\n",
              "        buttonEl.style.display =\n",
              "          google.colab.kernel.accessAllowed ? 'block' : 'none';\n",
              "\n",
              "        async function convertToInteractive(key) {\n",
              "          const element = document.querySelector('#df-704f8a39-c9a4-47a6-bf2f-e38e3edbe9d7');\n",
              "          const dataTable =\n",
              "            await google.colab.kernel.invokeFunction('convertToInteractive',\n",
              "                                                     [key], {});\n",
              "          if (!dataTable) return;\n",
              "\n",
              "          const docLinkHtml = 'Like what you see? Visit the ' +\n",
              "            '<a target=\"_blank\" href=https://colab.research.google.com/notebooks/data_table.ipynb>data table notebook</a>'\n",
              "            + ' to learn more about interactive tables.';\n",
              "          element.innerHTML = '';\n",
              "          dataTable['output_type'] = 'display_data';\n",
              "          await google.colab.output.renderOutput(dataTable, element);\n",
              "          const docLink = document.createElement('div');\n",
              "          docLink.innerHTML = docLinkHtml;\n",
              "          element.appendChild(docLink);\n",
              "        }\n",
              "      </script>\n",
              "    </div>\n",
              "  </div>\n",
              "  "
            ]
          },
          "metadata": {},
          "execution_count": 24
        }
      ]
    },
    {
      "cell_type": "code",
      "source": [
        "import seaborn as sns\n",
        "\n",
        "sns.distplot(df50_medias);"
      ],
      "metadata": {
        "colab": {
          "base_uri": "https://localhost:8080/",
          "height": 321
        },
        "id": "oc59Fr7TnO5J",
        "outputId": "f405f635-d3a3-43a3-d1dc-54d2632c34a2"
      },
      "execution_count": null,
      "outputs": [
        {
          "output_type": "stream",
          "name": "stderr",
          "text": [
            "/usr/local/lib/python3.7/dist-packages/seaborn/distributions.py:2619: FutureWarning: `distplot` is a deprecated function and will be removed in a future version. Please adapt your code to use either `displot` (a figure-level function with similar flexibility) or `histplot` (an axes-level function for histograms).\n",
            "  warnings.warn(msg, FutureWarning)\n"
          ]
        },
        {
          "output_type": "display_data",
          "data": {
            "text/plain": [
              "<Figure size 432x288 with 1 Axes>"
            ],
            "image/png": "[encoded data removed]"
          },
          "metadata": {
            "needs_background": "light"
          }
        }
      ]
    },
    {
      "cell_type": "markdown",
      "source": [
        "### Ejercicios Examen-Tarea"
      ],
      "metadata": {
        "id": "id4QUVLgItb1"
      }
    },
    {
      "cell_type": "markdown",
      "source": [
        "1.- En un salón de clases hay 60 alumnos.  30 de los alumnos estudian francés, 35 estudian ruso y  5 estudian francés y ruso. Dibuja un\n",
        "diagrama de Venn y calcula la probabilidad de que si se elige un estudiante al azar, éste estudie solamente francés."
      ],
      "metadata": {
        "id": "hgmkUCP1JHr4"
      }
    },
    {
      "cell_type": "code",
      "source": [
        "\n",
        "from matplotlib_venn import venn2, venn2_circles, venn2_unweighted\n",
        "from matplotlib_venn import venn3,venn3_circles\n",
        "from matplotlib import pyplot as plt "
      ],
      "metadata": {
        "id": "WUyuS8D3oUu1"
      },
      "execution_count": null,
      "outputs": []
    },
    {
      "cell_type": "code",
      "source": [
        "venn2(subsets = (25,30,5), set_labels= (\"Frances\", \"Ruso\"))"
      ],
      "metadata": {
        "colab": {
          "base_uri": "https://localhost:8080/",
          "height": 266
        },
        "id": "YgHC-uhDN6Ua",
        "outputId": "4f2d2359-5ee3-45fc-b8d3-c1f68c4ea9a1"
      },
      "execution_count": null,
      "outputs": [
        {
          "output_type": "execute_result",
          "data": {
            "text/plain": [
              "<matplotlib_venn._common.VennDiagram at 0x7f64df83dd10>"
            ]
          },
          "metadata": {},
          "execution_count": 23
        },
        {
          "output_type": "display_data",
          "data": {
            "text/plain": [
              "<Figure size 432x288 with 1 Axes>"
            ],
            "image/png": "[encoded data removed]"
          },
          "metadata": {}
        }
      ]
    },
    {
      "cell_type": "code",
      "source": [
        "Omega = 60"
      ],
      "metadata": {
        "id": "sGrSHoyvPtio"
      },
      "execution_count": null,
      "outputs": []
    },
    {
      "cell_type": "code",
      "source": [
        "# Probabilidad de que solamente estudie frances\n",
        "#Son 25 qlumnos \n",
        "#Probabilidad de que un estudiante solo estudie frances es de: 25/60"
      ],
      "metadata": {
        "id": "qZAI7gH-PwfC"
      },
      "execution_count": null,
      "outputs": []
    },
    {
      "cell_type": "markdown",
      "source": [
        "2.- Se lanza un dado 3 veces.\n",
        "Describe al espacio muestral.\n",
        "Calcula la probabilidad de que salga la cara 1 en el primer lanzamiento.\n",
        "\n",
        "Calcula la probabilidad condicional del evento cae un número par en los tres lanzamientos dado que en el primer lanzamiento cae\n",
        "2.\n",
        "Consideremos el evento: \"se obtiene sol en el segundo lanzamiento\". ¿Tal evento es independiente de los eventos anteriores?"
      ],
      "metadata": {
        "id": "K2PGyyOGQQbR"
      }
    },
    {
      "cell_type": "code",
      "source": [
        "#Espacio muestral\n",
        "from itertools import product\n",
        "Dado = set(product ([1,2,3,4,5,6], repeat=3))\n",
        "Dado"
      ],
      "metadata": {
        "colab": {
          "base_uri": "https://localhost:8080/"
        },
        "id": "PJwAMKzOQsnP",
        "outputId": "6d6d8c93-7162-477a-a898-3911525d7402"
      },
      "execution_count": null,
      "outputs": [
        {
          "output_type": "execute_result",
          "data": {
            "text/plain": [
              "{(1, 1, 1),\n",
              " (1, 1, 2),\n",
              " (1, 1, 3),\n",
              " (1, 1, 4),\n",
              " (1, 1, 5),\n",
              " (1, 1, 6),\n",
              " (1, 2, 1),\n",
              " (1, 2, 2),\n",
              " (1, 2, 3),\n",
              " (1, 2, 4),\n",
              " (1, 2, 5),\n",
              " (1, 2, 6),\n",
              " (1, 3, 1),\n",
              " (1, 3, 2),\n",
              " (1, 3, 3),\n",
              " (1, 3, 4),\n",
              " (1, 3, 5),\n",
              " (1, 3, 6),\n",
              " (1, 4, 1),\n",
              " (1, 4, 2),\n",
              " (1, 4, 3),\n",
              " (1, 4, 4),\n",
              " (1, 4, 5),\n",
              " (1, 4, 6),\n",
              " (1, 5, 1),\n",
              " (1, 5, 2),\n",
              " (1, 5, 3),\n",
              " (1, 5, 4),\n",
              " (1, 5, 5),\n",
              " (1, 5, 6),\n",
              " (1, 6, 1),\n",
              " (1, 6, 2),\n",
              " (1, 6, 3),\n",
              " (1, 6, 4),\n",
              " (1, 6, 5),\n",
              " (1, 6, 6),\n",
              " (2, 1, 1),\n",
              " (2, 1, 2),\n",
              " (2, 1, 3),\n",
              " (2, 1, 4),\n",
              " (2, 1, 5),\n",
              " (2, 1, 6),\n",
              " (2, 2, 1),\n",
              " (2, 2, 2),\n",
              " (2, 2, 3),\n",
              " (2, 2, 4),\n",
              " (2, 2, 5),\n",
              " (2, 2, 6),\n",
              " (2, 3, 1),\n",
              " (2, 3, 2),\n",
              " (2, 3, 3),\n",
              " (2, 3, 4),\n",
              " (2, 3, 5),\n",
              " (2, 3, 6),\n",
              " (2, 4, 1),\n",
              " (2, 4, 2),\n",
              " (2, 4, 3),\n",
              " (2, 4, 4),\n",
              " (2, 4, 5),\n",
              " (2, 4, 6),\n",
              " (2, 5, 1),\n",
              " (2, 5, 2),\n",
              " (2, 5, 3),\n",
              " (2, 5, 4),\n",
              " (2, 5, 5),\n",
              " (2, 5, 6),\n",
              " (2, 6, 1),\n",
              " (2, 6, 2),\n",
              " (2, 6, 3),\n",
              " (2, 6, 4),\n",
              " (2, 6, 5),\n",
              " (2, 6, 6),\n",
              " (3, 1, 1),\n",
              " (3, 1, 2),\n",
              " (3, 1, 3),\n",
              " (3, 1, 4),\n",
              " (3, 1, 5),\n",
              " (3, 1, 6),\n",
              " (3, 2, 1),\n",
              " (3, 2, 2),\n",
              " (3, 2, 3),\n",
              " (3, 2, 4),\n",
              " (3, 2, 5),\n",
              " (3, 2, 6),\n",
              " (3, 3, 1),\n",
              " (3, 3, 2),\n",
              " (3, 3, 3),\n",
              " (3, 3, 4),\n",
              " (3, 3, 5),\n",
              " (3, 3, 6),\n",
              " (3, 4, 1),\n",
              " (3, 4, 2),\n",
              " (3, 4, 3),\n",
              " (3, 4, 4),\n",
              " (3, 4, 5),\n",
              " (3, 4, 6),\n",
              " (3, 5, 1),\n",
              " (3, 5, 2),\n",
              " (3, 5, 3),\n",
              " (3, 5, 4),\n",
              " (3, 5, 5),\n",
              " (3, 5, 6),\n",
              " (3, 6, 1),\n",
              " (3, 6, 2),\n",
              " (3, 6, 3),\n",
              " (3, 6, 4),\n",
              " (3, 6, 5),\n",
              " (3, 6, 6),\n",
              " (4, 1, 1),\n",
              " (4, 1, 2),\n",
              " (4, 1, 3),\n",
              " (4, 1, 4),\n",
              " (4, 1, 5),\n",
              " (4, 1, 6),\n",
              " (4, 2, 1),\n",
              " (4, 2, 2),\n",
              " (4, 2, 3),\n",
              " (4, 2, 4),\n",
              " (4, 2, 5),\n",
              " (4, 2, 6),\n",
              " (4, 3, 1),\n",
              " (4, 3, 2),\n",
              " (4, 3, 3),\n",
              " (4, 3, 4),\n",
              " (4, 3, 5),\n",
              " (4, 3, 6),\n",
              " (4, 4, 1),\n",
              " (4, 4, 2),\n",
              " (4, 4, 3),\n",
              " (4, 4, 4),\n",
              " (4, 4, 5),\n",
              " (4, 4, 6),\n",
              " (4, 5, 1),\n",
              " (4, 5, 2),\n",
              " (4, 5, 3),\n",
              " (4, 5, 4),\n",
              " (4, 5, 5),\n",
              " (4, 5, 6),\n",
              " (4, 6, 1),\n",
              " (4, 6, 2),\n",
              " (4, 6, 3),\n",
              " (4, 6, 4),\n",
              " (4, 6, 5),\n",
              " (4, 6, 6),\n",
              " (5, 1, 1),\n",
              " (5, 1, 2),\n",
              " (5, 1, 3),\n",
              " (5, 1, 4),\n",
              " (5, 1, 5),\n",
              " (5, 1, 6),\n",
              " (5, 2, 1),\n",
              " (5, 2, 2),\n",
              " (5, 2, 3),\n",
              " (5, 2, 4),\n",
              " (5, 2, 5),\n",
              " (5, 2, 6),\n",
              " (5, 3, 1),\n",
              " (5, 3, 2),\n",
              " (5, 3, 3),\n",
              " (5, 3, 4),\n",
              " (5, 3, 5),\n",
              " (5, 3, 6),\n",
              " (5, 4, 1),\n",
              " (5, 4, 2),\n",
              " (5, 4, 3),\n",
              " (5, 4, 4),\n",
              " (5, 4, 5),\n",
              " (5, 4, 6),\n",
              " (5, 5, 1),\n",
              " (5, 5, 2),\n",
              " (5, 5, 3),\n",
              " (5, 5, 4),\n",
              " (5, 5, 5),\n",
              " (5, 5, 6),\n",
              " (5, 6, 1),\n",
              " (5, 6, 2),\n",
              " (5, 6, 3),\n",
              " (5, 6, 4),\n",
              " (5, 6, 5),\n",
              " (5, 6, 6),\n",
              " (6, 1, 1),\n",
              " (6, 1, 2),\n",
              " (6, 1, 3),\n",
              " (6, 1, 4),\n",
              " (6, 1, 5),\n",
              " (6, 1, 6),\n",
              " (6, 2, 1),\n",
              " (6, 2, 2),\n",
              " (6, 2, 3),\n",
              " (6, 2, 4),\n",
              " (6, 2, 5),\n",
              " (6, 2, 6),\n",
              " (6, 3, 1),\n",
              " (6, 3, 2),\n",
              " (6, 3, 3),\n",
              " (6, 3, 4),\n",
              " (6, 3, 5),\n",
              " (6, 3, 6),\n",
              " (6, 4, 1),\n",
              " (6, 4, 2),\n",
              " (6, 4, 3),\n",
              " (6, 4, 4),\n",
              " (6, 4, 5),\n",
              " (6, 4, 6),\n",
              " (6, 5, 1),\n",
              " (6, 5, 2),\n",
              " (6, 5, 3),\n",
              " (6, 5, 4),\n",
              " (6, 5, 5),\n",
              " (6, 5, 6),\n",
              " (6, 6, 1),\n",
              " (6, 6, 2),\n",
              " (6, 6, 3),\n",
              " (6, 6, 4),\n",
              " (6, 6, 5),\n",
              " (6, 6, 6)}"
            ]
          },
          "metadata": {},
          "execution_count": 2
        }
      ]
    },
    {
      "cell_type": "code",
      "source": [
        "# Probabilidad de que salga 1 en el primer lanzamiento\n",
        "A = {dado for dado in Dado if dado [0] ==1}\n",
        "A"
      ],
      "metadata": {
        "colab": {
          "base_uri": "https://localhost:8080/"
        },
        "id": "S3PFiTNNuzg1",
        "outputId": "269ce8e9-edb4-4bf5-a869-289c102ace19"
      },
      "execution_count": null,
      "outputs": [
        {
          "output_type": "execute_result",
          "data": {
            "text/plain": [
              "{(1, 1, 1),\n",
              " (1, 1, 2),\n",
              " (1, 1, 3),\n",
              " (1, 1, 4),\n",
              " (1, 1, 5),\n",
              " (1, 1, 6),\n",
              " (1, 2, 1),\n",
              " (1, 2, 2),\n",
              " (1, 2, 3),\n",
              " (1, 2, 4),\n",
              " (1, 2, 5),\n",
              " (1, 2, 6),\n",
              " (1, 3, 1),\n",
              " (1, 3, 2),\n",
              " (1, 3, 3),\n",
              " (1, 3, 4),\n",
              " (1, 3, 5),\n",
              " (1, 3, 6),\n",
              " (1, 4, 1),\n",
              " (1, 4, 2),\n",
              " (1, 4, 3),\n",
              " (1, 4, 4),\n",
              " (1, 4, 5),\n",
              " (1, 4, 6),\n",
              " (1, 5, 1),\n",
              " (1, 5, 2),\n",
              " (1, 5, 3),\n",
              " (1, 5, 4),\n",
              " (1, 5, 5),\n",
              " (1, 5, 6),\n",
              " (1, 6, 1),\n",
              " (1, 6, 2),\n",
              " (1, 6, 3),\n",
              " (1, 6, 4),\n",
              " (1, 6, 5),\n",
              " (1, 6, 6)}"
            ]
          },
          "metadata": {},
          "execution_count": 3
        }
      ]
    },
    {
      "cell_type": "code",
      "source": [
        "#probabilidad de que ocurra el evento A\n",
        "len(A)/len(Dado)"
      ],
      "metadata": {
        "colab": {
          "base_uri": "https://localhost:8080/"
        },
        "id": "qXSNt4kFvrM0",
        "outputId": "b8f59e2d-38e9-4a2f-eacc-027cf35366f9"
      },
      "execution_count": null,
      "outputs": [
        {
          "output_type": "execute_result",
          "data": {
            "text/plain": [
              "0.16666666666666666"
            ]
          },
          "metadata": {},
          "execution_count": 4
        }
      ]
    },
    {
      "cell_type": "code",
      "source": [
        "B = {dado for dado in Dado if dado [0]==2}\n",
        "B"
      ],
      "metadata": {
        "colab": {
          "base_uri": "https://localhost:8080/"
        },
        "id": "00B3aiwswIHn",
        "outputId": "1ed7c196-54c6-42ce-c53b-30c9e2625447"
      },
      "execution_count": null,
      "outputs": [
        {
          "output_type": "execute_result",
          "data": {
            "text/plain": [
              "{(2, 1, 1),\n",
              " (2, 1, 2),\n",
              " (2, 1, 3),\n",
              " (2, 1, 4),\n",
              " (2, 1, 5),\n",
              " (2, 1, 6),\n",
              " (2, 2, 1),\n",
              " (2, 2, 2),\n",
              " (2, 2, 3),\n",
              " (2, 2, 4),\n",
              " (2, 2, 5),\n",
              " (2, 2, 6),\n",
              " (2, 3, 1),\n",
              " (2, 3, 2),\n",
              " (2, 3, 3),\n",
              " (2, 3, 4),\n",
              " (2, 3, 5),\n",
              " (2, 3, 6),\n",
              " (2, 4, 1),\n",
              " (2, 4, 2),\n",
              " (2, 4, 3),\n",
              " (2, 4, 4),\n",
              " (2, 4, 5),\n",
              " (2, 4, 6),\n",
              " (2, 5, 1),\n",
              " (2, 5, 2),\n",
              " (2, 5, 3),\n",
              " (2, 5, 4),\n",
              " (2, 5, 5),\n",
              " (2, 5, 6),\n",
              " (2, 6, 1),\n",
              " (2, 6, 2),\n",
              " (2, 6, 3),\n",
              " (2, 6, 4),\n",
              " (2, 6, 5),\n",
              " (2, 6, 6)}"
            ]
          },
          "metadata": {},
          "execution_count": 5
        }
      ]
    },
    {
      "cell_type": "code",
      "source": [
        "C =  {dado for dado in Dado if dado [1]%2==0 and dado [2]%2==0}\n",
        "C"
      ],
      "metadata": {
        "colab": {
          "base_uri": "https://localhost:8080/"
        },
        "id": "oysIlZGIwej1",
        "outputId": "b75b3664-65ec-4817-ea36-f16ec04f5cc0"
      },
      "execution_count": null,
      "outputs": [
        {
          "output_type": "execute_result",
          "data": {
            "text/plain": [
              "{(1, 2, 2),\n",
              " (1, 2, 4),\n",
              " (1, 2, 6),\n",
              " (1, 4, 2),\n",
              " (1, 4, 4),\n",
              " (1, 4, 6),\n",
              " (1, 6, 2),\n",
              " (1, 6, 4),\n",
              " (1, 6, 6),\n",
              " (2, 2, 2),\n",
              " (2, 2, 4),\n",
              " (2, 2, 6),\n",
              " (2, 4, 2),\n",
              " (2, 4, 4),\n",
              " (2, 4, 6),\n",
              " (2, 6, 2),\n",
              " (2, 6, 4),\n",
              " (2, 6, 6),\n",
              " (3, 2, 2),\n",
              " (3, 2, 4),\n",
              " (3, 2, 6),\n",
              " (3, 4, 2),\n",
              " (3, 4, 4),\n",
              " (3, 4, 6),\n",
              " (3, 6, 2),\n",
              " (3, 6, 4),\n",
              " (3, 6, 6),\n",
              " (4, 2, 2),\n",
              " (4, 2, 4),\n",
              " (4, 2, 6),\n",
              " (4, 4, 2),\n",
              " (4, 4, 4),\n",
              " (4, 4, 6),\n",
              " (4, 6, 2),\n",
              " (4, 6, 4),\n",
              " (4, 6, 6),\n",
              " (5, 2, 2),\n",
              " (5, 2, 4),\n",
              " (5, 2, 6),\n",
              " (5, 4, 2),\n",
              " (5, 4, 4),\n",
              " (5, 4, 6),\n",
              " (5, 6, 2),\n",
              " (5, 6, 4),\n",
              " (5, 6, 6),\n",
              " (6, 2, 2),\n",
              " (6, 2, 4),\n",
              " (6, 2, 6),\n",
              " (6, 4, 2),\n",
              " (6, 4, 4),\n",
              " (6, 4, 6),\n",
              " (6, 6, 2),\n",
              " (6, 6, 4),\n",
              " (6, 6, 6)}"
            ]
          },
          "metadata": {},
          "execution_count": 9
        }
      ]
    },
    {
      "cell_type": "code",
      "source": [
        "D=B.intersection(C)\n",
        "D"
      ],
      "metadata": {
        "colab": {
          "base_uri": "https://localhost:8080/"
        },
        "id": "eGKfXQFMycrT",
        "outputId": "f7b6b269-3fe3-440d-eaa0-012515563471"
      },
      "execution_count": null,
      "outputs": [
        {
          "output_type": "execute_result",
          "data": {
            "text/plain": [
              "{(2, 2, 2),\n",
              " (2, 2, 4),\n",
              " (2, 2, 6),\n",
              " (2, 4, 2),\n",
              " (2, 4, 4),\n",
              " (2, 4, 6),\n",
              " (2, 6, 2),\n",
              " (2, 6, 4),\n",
              " (2, 6, 6)}"
            ]
          },
          "metadata": {},
          "execution_count": 10
        }
      ]
    },
    {
      "cell_type": "code",
      "source": [
        "# Probabilidad de que en el primer lanzamiento salga 2 y los demas sean par\n",
        "P = len( B.intersection(C))/len(Dado)\n",
        "P"
      ],
      "metadata": {
        "colab": {
          "base_uri": "https://localhost:8080/"
        },
        "id": "3whNehs0xzwg",
        "outputId": "da4048be-9083-400d-c3e0-89f70a8a7ee0"
      },
      "execution_count": null,
      "outputs": [
        {
          "output_type": "execute_result",
          "data": {
            "text/plain": [
              "0.041666666666666664"
            ]
          },
          "metadata": {},
          "execution_count": 11
        }
      ]
    },
    {
      "cell_type": "markdown",
      "source": [
        "Consideremos el evento: \"se obtiene sol en el segundo lanzamiento\". ¿Tal evento es independiente de los eventos anteriores?\n",
        "Son eventos independientes"
      ],
      "metadata": {
        "id": "YrX5NUV_yz4T"
      }
    },
    {
      "cell_type": "markdown",
      "source": [
        "3.- Considera el experimento: Alicia y Karla lanzan  2 dados justos. Se tiene el siguiente juego:\n",
        "\n",
        "Si la suma de los dados es par, Alicia gana la cantidad máxima que sale en las caras y Karla pierde la cantidad mínima que sale en las\n",
        "caras.\n",
        "\n",
        "Si la suma de los dados es un número impar, Karla gana la cantidad de $5y Alicia pierde la cantidad de  3.\n",
        "\n",
        "¿Quién tiene más probabilidad de obtener mayor ganancia?"
      ],
      "metadata": {
        "id": "U6D8ohZ-QWK1"
      }
    },
    {
      "cell_type": "code",
      "source": [
        "O = set (product({1,2,3,4,5,6}, repeat = 2))\n",
        "O "
      ],
      "metadata": {
        "colab": {
          "base_uri": "https://localhost:8080/"
        },
        "id": "tGk4iJMDQtN6",
        "outputId": "d039d1ae-0c52-4996-cc74-839473197a2f"
      },
      "execution_count": null,
      "outputs": [
        {
          "output_type": "execute_result",
          "data": {
            "text/plain": [
              "{(1, 1),\n",
              " (1, 2),\n",
              " (1, 3),\n",
              " (1, 4),\n",
              " (1, 5),\n",
              " (1, 6),\n",
              " (2, 1),\n",
              " (2, 2),\n",
              " (2, 3),\n",
              " (2, 4),\n",
              " (2, 5),\n",
              " (2, 6),\n",
              " (3, 1),\n",
              " (3, 2),\n",
              " (3, 3),\n",
              " (3, 4),\n",
              " (3, 5),\n",
              " (3, 6),\n",
              " (4, 1),\n",
              " (4, 2),\n",
              " (4, 3),\n",
              " (4, 4),\n",
              " (4, 5),\n",
              " (4, 6),\n",
              " (5, 1),\n",
              " (5, 2),\n",
              " (5, 3),\n",
              " (5, 4),\n",
              " (5, 5),\n",
              " (5, 6),\n",
              " (6, 1),\n",
              " (6, 2),\n",
              " (6, 3),\n",
              " (6, 4),\n",
              " (6, 5),\n",
              " (6, 6)}"
            ]
          },
          "metadata": {},
          "execution_count": 6
        }
      ]
    },
    {
      "cell_type": "code",
      "source": [
        "len(O)"
      ],
      "metadata": {
        "colab": {
          "base_uri": "https://localhost:8080/"
        },
        "id": "pNYrDJez4dsA",
        "outputId": "54cfbd19-b592-425b-fdd9-3dcd97642088"
      },
      "execution_count": null,
      "outputs": [
        {
          "output_type": "execute_result",
          "data": {
            "text/plain": [
              "36"
            ]
          },
          "metadata": {},
          "execution_count": 9
        }
      ]
    },
    {
      "cell_type": "code",
      "source": [
        "Caso1 = {o for o in O if (o [0]+o[1])%2==0}\n",
        "Caso1"
      ],
      "metadata": {
        "colab": {
          "base_uri": "https://localhost:8080/"
        },
        "id": "oRJivG330UM0",
        "outputId": "b429d876-501c-43d4-f80b-bede89a398d1"
      },
      "execution_count": null,
      "outputs": [
        {
          "output_type": "execute_result",
          "data": {
            "text/plain": [
              "{(1, 1),\n",
              " (1, 3),\n",
              " (1, 5),\n",
              " (2, 2),\n",
              " (2, 4),\n",
              " (2, 6),\n",
              " (3, 1),\n",
              " (3, 3),\n",
              " (3, 5),\n",
              " (4, 2),\n",
              " (4, 4),\n",
              " (4, 6),\n",
              " (5, 1),\n",
              " (5, 3),\n",
              " (5, 5),\n",
              " (6, 2),\n",
              " (6, 4),\n",
              " (6, 6)}"
            ]
          },
          "metadata": {},
          "execution_count": 8
        }
      ]
    },
    {
      "cell_type": "code",
      "source": [
        "#Probabilidad del maximo\n",
        "A = {max(a) for a in Caso1}\n",
        "print (A)\n",
        "print ( len(Caso1))"
      ],
      "metadata": {
        "colab": {
          "base_uri": "https://localhost:8080/"
        },
        "id": "leHbyjLnE_46",
        "outputId": "d0b55cf6-7d6d-414c-a99b-201fa43ba95d"
      },
      "execution_count": null,
      "outputs": [
        {
          "output_type": "stream",
          "name": "stdout",
          "text": [
            "{1, 2, 3, 4, 5, 6}\n",
            "18\n"
          ]
        }
      ]
    },
    {
      "cell_type": "markdown",
      "source": [
        "- Alicia gane 1 peso:\n",
        " -$\\{(1,1)\\}----P(gane\\ 1 \\ peso)=1/18$\n",
        "-Alicia gane 2 peso:\n",
        " -$\\{(2,2)\\}----P(gane\\ 2 \\ peso)=1/18$\n",
        "-Alicia gane 3 peso:\n",
        " -$\\{(1,3), (3,1), (3,3) \\}----P(gane\\ 3 \\ peso)=3/18$\n",
        "- Alicia gane 4 peso:\n",
        " -$\\{(2,4), (4,2), (4,4)\\}----P(gane\\ 4 \\ peso)=3/18$\n",
        "-Alicia gane 5 peso:\n",
        " -$\\{(1,5), (3,5),(5,1), (5,3), (5,5)\\}----P(gane\\ 5 \\ peso)=4/18$\n",
        "-Alicia gane 6 peso:\n",
        " -$\\{(2,6), (4,6), (6,2), (6,4), (6,6)\\}----P(gane\\ 6 \\ peso)=5/18$"
      ],
      "metadata": {
        "id": "BiwkZuzNGdwd"
      }
    },
    {
      "cell_type": "code",
      "source": [
        "#probabilidad de que gane Alicia\n",
        "Alicia= len(Caso1)/len(O)\n",
        "Alicia"
      ],
      "metadata": {
        "colab": {
          "base_uri": "https://localhost:8080/"
        },
        "id": "Bb_85tKc4E_d",
        "outputId": "95022db1-33b2-4212-fe72-6f73675d2b0e"
      },
      "execution_count": null,
      "outputs": [
        {
          "output_type": "execute_result",
          "data": {
            "text/plain": [
              "0.5"
            ]
          },
          "metadata": {},
          "execution_count": 29
        }
      ]
    },
    {
      "cell_type": "code",
      "source": [
        "Caso2 = {o for o in O if (o [0]+o[1])%2==1}\n",
        "Caso2"
      ],
      "metadata": {
        "colab": {
          "base_uri": "https://localhost:8080/"
        },
        "id": "fQEVFRsL31fd",
        "outputId": "7e665d0b-7bdc-49a0-a0f4-b024978dcd1f"
      },
      "execution_count": null,
      "outputs": [
        {
          "output_type": "execute_result",
          "data": {
            "text/plain": [
              "{(1, 2),\n",
              " (1, 4),\n",
              " (1, 6),\n",
              " (2, 1),\n",
              " (2, 3),\n",
              " (2, 5),\n",
              " (3, 2),\n",
              " (3, 4),\n",
              " (3, 6),\n",
              " (4, 1),\n",
              " (4, 3),\n",
              " (4, 5),\n",
              " (5, 2),\n",
              " (5, 4),\n",
              " (5, 6),\n",
              " (6, 1),\n",
              " (6, 3),\n",
              " (6, 5)}"
            ]
          },
          "metadata": {},
          "execution_count": 30
        }
      ]
    },
    {
      "cell_type": "code",
      "source": [
        "#probabilidad de que gane\n",
        "Karla = len(Caso2)/len(O)\n",
        "Karla"
      ],
      "metadata": {
        "colab": {
          "base_uri": "https://localhost:8080/"
        },
        "id": "BLck2-6v4Tpi",
        "outputId": "ec0c9679-c35c-4f48-ada4-64ce78d4b3dc"
      },
      "execution_count": null,
      "outputs": [
        {
          "output_type": "execute_result",
          "data": {
            "text/plain": [
              "0.5"
            ]
          },
          "metadata": {},
          "execution_count": 31
        }
      ]
    },
    {
      "cell_type": "markdown",
      "source": [
        "Karla es la persona con mayor probabilidad de obtener la mayor ganancia"
      ],
      "metadata": {
        "id": "ClmK2J9lZQyB"
      }
    },
    {
      "cell_type": "markdown",
      "source": [
        "4.- Escribe en un DataFrame la distribución asociada a la suma que se obtiene al lanzar 3 dados."
      ],
      "metadata": {
        "id": "lUlBflSd7E8T"
      }
    },
    {
      "cell_type": "code",
      "source": [
        "from itertools import product \n",
        "Omega = set (product([1,2,3,4,5,6],repeat=3))\n"
      ],
      "metadata": {
        "id": "bmUP8g4nOrf-"
      },
      "execution_count": null,
      "outputs": []
    },
    {
      "cell_type": "code",
      "source": [
        "def S(n):\n",
        "  Sn=[x for x in Omega if x[0]+ x[1]+ x[2]==n]\n",
        "  return Sn"
      ],
      "metadata": {
        "id": "qXdB7APbTA0Y"
      },
      "execution_count": null,
      "outputs": []
    },
    {
      "cell_type": "code",
      "source": [
        "s2=S(2)\n",
        "s3=S(3)\n",
        "s4=S(4)\n",
        "s5=S(5)\n",
        "s6=S(6)\n",
        "s7=S(7)\n",
        "s8=S(8)\n",
        "s9=S(9)\n",
        "s10=S(10)\n",
        "s11=S(11)\n",
        "s12=S(12)\n",
        "s13=S(13)\n",
        "s14=S(14)\n",
        "s15=S(15)\n",
        "s16=S(16)\n",
        "s17=S(17)\n",
        "s18=S(18)"
      ],
      "metadata": {
        "id": "tZsWnCHRTjIU"
      },
      "execution_count": null,
      "outputs": []
    },
    {
      "cell_type": "code",
      "source": [
        "#Creación de diccionario\n",
        "dados={\"Suma 2\":[s2],\n",
        "       \"Suma 3\":[s3],\n",
        "       \"Suma 4\":[s4],\n",
        "       \"Suma 5\":[s5],\n",
        "       \"Suma 6\":[s6],\n",
        "       \"Suma 7\":[s7],\n",
        "       \"Suma 8\":[s8],\n",
        "       \"Suma 9\":[s9],\n",
        "       \"Suma 10\":[s10],\n",
        "       \"Suma 11\":[s11],\n",
        "       \"Suma 12\":[s12],\n",
        "       \"Suma 13\":[s13],\n",
        "        \"Suma 14\":[s14],\n",
        "       \"Suma 15\":[s15],\n",
        "       \"Suma 16\":[s16],\n",
        "       \"Suma 17\":[s17],\n",
        "       \"Suma 18\":[s18], }"
      ],
      "metadata": {
        "id": "Dk1dZ9CdUY-M"
      },
      "execution_count": null,
      "outputs": []
    },
    {
      "cell_type": "code",
      "source": [
        "import pandas as pd\n",
        "dfDados=pd.DataFrame(dados,index=[\"valores\"])\n",
        "dfDados"
      ],
      "metadata": {
        "colab": {
          "base_uri": "https://localhost:8080/",
          "height": 212
        },
        "id": "ENAR-4AQVG9C",
        "outputId": "40067051-0315-458e-a95c-eb9412d063f5"
      },
      "execution_count": null,
      "outputs": [
        {
          "output_type": "execute_result",
          "data": {
            "text/plain": [
              "        Suma 2       Suma 3                             Suma 4  \\\n",
              "valores     []  [(1, 1, 1)]  [(2, 1, 1), (1, 1, 2), (1, 2, 1)]   \n",
              "\n",
              "                                                    Suma 5  \\\n",
              "valores  [(1, 2, 2), (1, 3, 1), (2, 2, 1), (3, 1, 1), (...   \n",
              "\n",
              "                                                    Suma 6  \\\n",
              "valores  [(3, 1, 2), (4, 1, 1), (2, 1, 3), (1, 1, 4), (...   \n",
              "\n",
              "                                                    Suma 7  \\\n",
              "valores  [(1, 4, 2), (3, 2, 2), (1, 2, 4), (1, 5, 1), (...   \n",
              "\n",
              "                                                    Suma 8  \\\n",
              "valores  [(4, 2, 2), (2, 2, 4), (5, 2, 1), (3, 1, 4), (...   \n",
              "\n",
              "                                                    Suma 9  \\\n",
              "valores  [(1, 4, 4), (2, 6, 1), (3, 2, 4), (1, 2, 6), (...   \n",
              "\n",
              "                                                   Suma 10  \\\n",
              "valores  [(3, 1, 6), (5, 2, 3), (4, 1, 5), (2, 5, 3), (...   \n",
              "\n",
              "                                                   Suma 11  \\\n",
              "valores  [(5, 5, 1), (2, 6, 3), (3, 2, 6), (4, 6, 1), (...   \n",
              "\n",
              "                                                   Suma 12  \\\n",
              "valores  [(6, 5, 1), (2, 5, 5), (3, 4, 5), (6, 3, 3), (...   \n",
              "\n",
              "                                                   Suma 13  \\\n",
              "valores  [(5, 5, 3), (2, 6, 5), (6, 6, 1), (4, 6, 3), (...   \n",
              "\n",
              "                                                   Suma 14  \\\n",
              "valores  [(6, 5, 3), (5, 3, 6), (6, 3, 5), (6, 4, 4), (...   \n",
              "\n",
              "                                                   Suma 15  \\\n",
              "valores  [(5, 5, 5), (6, 6, 3), (4, 6, 5), (5, 6, 4), (...   \n",
              "\n",
              "                                                   Suma 16  \\\n",
              "valores  [(6, 5, 5), (6, 4, 6), (5, 5, 6), (6, 6, 4), (...   \n",
              "\n",
              "                                   Suma 17      Suma 18  \n",
              "valores  [(6, 6, 5), (5, 6, 6), (6, 5, 6)]  [(6, 6, 6)]  "
            ],
            "text/html": [
              "\n",
              "  <div id=\"df-9599596d-c7b6-48cc-8623-7b7a84ac5496\">\n",
              "    <div class=\"colab-df-container\">\n",
              "      <div>\n",
              "<style scoped>\n",
              "    .dataframe tbody tr th:only-of-type {\n",
              "        vertical-align: middle;\n",
              "    }\n",
              "\n",
              "    .dataframe tbody tr th {\n",
              "        vertical-align: top;\n",
              "    }\n",
              "\n",
              "    .dataframe thead th {\n",
              "        text-align: right;\n",
              "    }\n",
              "</style>\n",
              "<table border=\"1\" class=\"dataframe\">\n",
              "  <thead>\n",
              "    <tr style=\"text-align: right;\">\n",
              "      <th></th>\n",
              "      <th>Suma 2</th>\n",
              "      <th>Suma 3</th>\n",
              "      <th>Suma 4</th>\n",
              "      <th>Suma 5</th>\n",
              "      <th>Suma 6</th>\n",
              "      <th>Suma 7</th>\n",
              "      <th>Suma 8</th>\n",
              "      <th>Suma 9</th>\n",
              "      <th>Suma 10</th>\n",
              "      <th>Suma 11</th>\n",
              "      <th>Suma 12</th>\n",
              "      <th>Suma 13</th>\n",
              "      <th>Suma 14</th>\n",
              "      <th>Suma 15</th>\n",
              "      <th>Suma 16</th>\n",
              "      <th>Suma 17</th>\n",
              "      <th>Suma 18</th>\n",
              "    </tr>\n",
              "  </thead>\n",
              "  <tbody>\n",
              "    <tr>\n",
              "      <th>valores</th>\n",
              "      <td>[]</td>\n",
              "      <td>[(1, 1, 1)]</td>\n",
              "      <td>[(2, 1, 1), (1, 1, 2), (1, 2, 1)]</td>\n",
              "      <td>[(1, 2, 2), (1, 3, 1), (2, 2, 1), (3, 1, 1), (...</td>\n",
              "      <td>[(3, 1, 2), (4, 1, 1), (2, 1, 3), (1, 1, 4), (...</td>\n",
              "      <td>[(1, 4, 2), (3, 2, 2), (1, 2, 4), (1, 5, 1), (...</td>\n",
              "      <td>[(4, 2, 2), (2, 2, 4), (5, 2, 1), (3, 1, 4), (...</td>\n",
              "      <td>[(1, 4, 4), (2, 6, 1), (3, 2, 4), (1, 2, 6), (...</td>\n",
              "      <td>[(3, 1, 6), (5, 2, 3), (4, 1, 5), (2, 5, 3), (...</td>\n",
              "      <td>[(5, 5, 1), (2, 6, 3), (3, 2, 6), (4, 6, 1), (...</td>\n",
              "      <td>[(6, 5, 1), (2, 5, 5), (3, 4, 5), (6, 3, 3), (...</td>\n",
              "      <td>[(5, 5, 3), (2, 6, 5), (6, 6, 1), (4, 6, 3), (...</td>\n",
              "      <td>[(6, 5, 3), (5, 3, 6), (6, 3, 5), (6, 4, 4), (...</td>\n",
              "      <td>[(5, 5, 5), (6, 6, 3), (4, 6, 5), (5, 6, 4), (...</td>\n",
              "      <td>[(6, 5, 5), (6, 4, 6), (5, 5, 6), (6, 6, 4), (...</td>\n",
              "      <td>[(6, 6, 5), (5, 6, 6), (6, 5, 6)]</td>\n",
              "      <td>[(6, 6, 6)]</td>\n",
              "    </tr>\n",
              "  </tbody>\n",
              "</table>\n",
              "</div>\n",
              "      <button class=\"colab-df-convert\" onclick=\"convertToInteractive('df-9599596d-c7b6-48cc-8623-7b7a84ac5496')\"\n",
              "              title=\"Convert this dataframe to an interactive table.\"\n",
              "              style=\"display:none;\">\n",
              "        \n",
              "  <svg xmlns=\"http://www.w3.org/2000/svg\" height=\"24px\"viewBox=\"0 0 24 24\"\n",
              "       width=\"24px\">\n",
              "    <path d=\"M0 0h24v24H0V0z\" fill=\"none\"/>\n",
              "    <path d=\"M18.56 5.44l.94 2.06.94-2.06 2.06-.94-2.06-.94-.94-2.06-.94 2.06-2.06.94zm-11 1L8.5 8.5l.94-2.06 2.06-.94-2.06-.94L8.5 2.5l-.94 2.06-2.06.94zm10 10l.94 2.06.94-2.06 2.06-.94-2.06-.94-.94-2.06-.94 2.06-2.06.94z\"/><path d=\"M17.41 7.96l-1.37-1.37c-.4-.4-.92-.59-1.43-.59-.52 0-1.04.2-1.43.59L10.3 9.45l-7.72 7.72c-.78.78-.78 2.05 0 2.83L4 21.41c.39.39.9.59 1.41.59.51 0 1.02-.2 1.41-.59l7.78-7.78 2.81-2.81c.8-.78.8-2.07 0-2.86zM5.41 20L4 18.59l7.72-7.72 1.47 1.35L5.41 20z\"/>\n",
              "  </svg>\n",
              "      </button>\n",
              "      \n",
              "  <style>\n",
              "    .colab-df-container {\n",
              "      display:flex;\n",
              "      flex-wrap:wrap;\n",
              "      gap: 12px;\n",
              "    }\n",
              "\n",
              "    .colab-df-convert {\n",
              "      background-color: #E8F0FE;\n",
              "      border: none;\n",
              "      border-radius: 50%;\n",
              "      cursor: pointer;\n",
              "      display: none;\n",
              "      fill: #1967D2;\n",
              "      height: 32px;\n",
              "      padding: 0 0 0 0;\n",
              "      width: 32px;\n",
              "    }\n",
              "\n",
              "    .colab-df-convert:hover {\n",
              "      background-color: #E2EBFA;\n",
              "      box-shadow: 0px 1px 2px rgba(60, 64, 67, 0.3), 0px 1px 3px 1px rgba(60, 64, 67, 0.15);\n",
              "      fill: #174EA6;\n",
              "    }\n",
              "\n",
              "    [theme=dark] .colab-df-convert {\n",
              "      background-color: #3B4455;\n",
              "      fill: #D2E3FC;\n",
              "    }\n",
              "\n",
              "    [theme=dark] .colab-df-convert:hover {\n",
              "      background-color: #434B5C;\n",
              "      box-shadow: 0px 1px 3px 1px rgba(0, 0, 0, 0.15);\n",
              "      filter: drop-shadow(0px 1px 2px rgba(0, 0, 0, 0.3));\n",
              "      fill: #FFFFFF;\n",
              "    }\n",
              "  </style>\n",
              "\n",
              "      <script>\n",
              "        const buttonEl =\n",
              "          document.querySelector('#df-9599596d-c7b6-48cc-8623-7b7a84ac5496 button.colab-df-convert');\n",
              "        buttonEl.style.display =\n",
              "          google.colab.kernel.accessAllowed ? 'block' : 'none';\n",
              "\n",
              "        async function convertToInteractive(key) {\n",
              "          const element = document.querySelector('#df-9599596d-c7b6-48cc-8623-7b7a84ac5496');\n",
              "          const dataTable =\n",
              "            await google.colab.kernel.invokeFunction('convertToInteractive',\n",
              "                                                     [key], {});\n",
              "          if (!dataTable) return;\n",
              "\n",
              "          const docLinkHtml = 'Like what you see? Visit the ' +\n",
              "            '<a target=\"_blank\" href=https://colab.research.google.com/notebooks/data_table.ipynb>data table notebook</a>'\n",
              "            + ' to learn more about interactive tables.';\n",
              "          element.innerHTML = '';\n",
              "          dataTable['output_type'] = 'display_data';\n",
              "          await google.colab.output.renderOutput(dataTable, element);\n",
              "          const docLink = document.createElement('div');\n",
              "          docLink.innerHTML = docLinkHtml;\n",
              "          element.appendChild(docLink);\n",
              "        }\n",
              "      </script>\n",
              "    </div>\n",
              "  </div>\n",
              "  "
            ]
          },
          "metadata": {},
          "execution_count": 33
        }
      ]
    },
    {
      "cell_type": "markdown",
      "source": [
        "5.- En un salón de clases se encuentran 20 estudiantes. Se requiere comparar Horas de estudio en un día anterior a un examen con la\n",
        "calificación que se obtiene en el examen. Registra tus datos (que inventarás) en un diccionario y crea un DataFrame a partir del diccionario.\n",
        "Usando algún método en Pandas, da una descripción estadística de los datos anteriores."
      ],
      "metadata": {
        "id": "aE-SRFHA7KIH"
      }
    },
    {
      "cell_type": "code",
      "source": [
        "Calf =[]\n",
        "for i in range(1,21):\n",
        "  rint= np.random.randint(1,10)\n",
        "  Calf.append(rint)"
      ],
      "metadata": {
        "id": "9v_1DBAU8azM"
      },
      "execution_count": null,
      "outputs": []
    },
    {
      "cell_type": "code",
      "source": [
        "Calf"
      ],
      "metadata": {
        "colab": {
          "base_uri": "https://localhost:8080/"
        },
        "id": "lW9TrdUM-G-4",
        "outputId": "f2b0985f-3427-4d77-c00d-849dd2a89a40"
      },
      "execution_count": null,
      "outputs": [
        {
          "output_type": "execute_result",
          "data": {
            "text/plain": [
              "[7, 1, 4, 7, 1, 8, 1, 9, 9, 3, 3, 7, 3, 8, 1, 6, 8, 9, 8, 4]"
            ]
          },
          "metadata": {},
          "execution_count": 27
        }
      ]
    },
    {
      "cell_type": "code",
      "source": [
        "# Crear data frame con las calificaciones y horas de estudio\n",
        "import pandas as pd\n",
        "\n",
        "dfAlumn = pd.DataFrame()\n",
        "\n",
        "for i in range(1,21):\n",
        "  Calf_estudio = np.random.randint(1,10)\n",
        "  col = f\"Alumno{i}\"\n",
        "  dfAlumn[col]= Calf_estudio\n",
        "dfAlumn\n",
        "\n"
      ],
      "metadata": {
        "colab": {
          "base_uri": "https://localhost:8080/",
          "height": 113
        },
        "id": "dYin2tYs-JQa",
        "outputId": "85c39408-f76c-49d5-c11e-718f40c1d5d4"
      },
      "execution_count": null,
      "outputs": [
        {
          "output_type": "execute_result",
          "data": {
            "text/plain": [
              "Empty DataFrame\n",
              "Columns: [Alumno1, Alumno2, Alumno3, Alumno4, Alumno5, Alumno6, Alumno7, Alumno8, Alumno9, Alumno10, Alumno11, Alumno12, Alumno13, Alumno14, Alumno15, Alumno16, Alumno17, Alumno18, Alumno19, Alumno20]\n",
              "Index: []"
            ],
            "text/html": [
              "\n",
              "  <div id=\"df-c894a3d5-eb00-4d45-b19e-4f00c72251ab\">\n",
              "    <div class=\"colab-df-container\">\n",
              "      <div>\n",
              "<style scoped>\n",
              "    .dataframe tbody tr th:only-of-type {\n",
              "        vertical-align: middle;\n",
              "    }\n",
              "\n",
              "    .dataframe tbody tr th {\n",
              "        vertical-align: top;\n",
              "    }\n",
              "\n",
              "    .dataframe thead th {\n",
              "        text-align: right;\n",
              "    }\n",
              "</style>\n",
              "<table border=\"1\" class=\"dataframe\">\n",
              "  <thead>\n",
              "    <tr style=\"text-align: right;\">\n",
              "      <th></th>\n",
              "      <th>Alumno1</th>\n",
              "      <th>Alumno2</th>\n",
              "      <th>Alumno3</th>\n",
              "      <th>Alumno4</th>\n",
              "      <th>Alumno5</th>\n",
              "      <th>Alumno6</th>\n",
              "      <th>Alumno7</th>\n",
              "      <th>Alumno8</th>\n",
              "      <th>Alumno9</th>\n",
              "      <th>Alumno10</th>\n",
              "      <th>Alumno11</th>\n",
              "      <th>Alumno12</th>\n",
              "      <th>Alumno13</th>\n",
              "      <th>Alumno14</th>\n",
              "      <th>Alumno15</th>\n",
              "      <th>Alumno16</th>\n",
              "      <th>Alumno17</th>\n",
              "      <th>Alumno18</th>\n",
              "      <th>Alumno19</th>\n",
              "      <th>Alumno20</th>\n",
              "    </tr>\n",
              "  </thead>\n",
              "  <tbody>\n",
              "  </tbody>\n",
              "</table>\n",
              "</div>\n",
              "      <button class=\"colab-df-convert\" onclick=\"convertToInteractive('df-c894a3d5-eb00-4d45-b19e-4f00c72251ab')\"\n",
              "              title=\"Convert this dataframe to an interactive table.\"\n",
              "              style=\"display:none;\">\n",
              "        \n",
              "  <svg xmlns=\"http://www.w3.org/2000/svg\" height=\"24px\"viewBox=\"0 0 24 24\"\n",
              "       width=\"24px\">\n",
              "    <path d=\"M0 0h24v24H0V0z\" fill=\"none\"/>\n",
              "    <path d=\"M18.56 5.44l.94 2.06.94-2.06 2.06-.94-2.06-.94-.94-2.06-.94 2.06-2.06.94zm-11 1L8.5 8.5l.94-2.06 2.06-.94-2.06-.94L8.5 2.5l-.94 2.06-2.06.94zm10 10l.94 2.06.94-2.06 2.06-.94-2.06-.94-.94-2.06-.94 2.06-2.06.94z\"/><path d=\"M17.41 7.96l-1.37-1.37c-.4-.4-.92-.59-1.43-.59-.52 0-1.04.2-1.43.59L10.3 9.45l-7.72 7.72c-.78.78-.78 2.05 0 2.83L4 21.41c.39.39.9.59 1.41.59.51 0 1.02-.2 1.41-.59l7.78-7.78 2.81-2.81c.8-.78.8-2.07 0-2.86zM5.41 20L4 18.59l7.72-7.72 1.47 1.35L5.41 20z\"/>\n",
              "  </svg>\n",
              "      </button>\n",
              "      \n",
              "  <style>\n",
              "    .colab-df-container {\n",
              "      display:flex;\n",
              "      flex-wrap:wrap;\n",
              "      gap: 12px;\n",
              "    }\n",
              "\n",
              "    .colab-df-convert {\n",
              "      background-color: #E8F0FE;\n",
              "      border: none;\n",
              "      border-radius: 50%;\n",
              "      cursor: pointer;\n",
              "      display: none;\n",
              "      fill: #1967D2;\n",
              "      height: 32px;\n",
              "      padding: 0 0 0 0;\n",
              "      width: 32px;\n",
              "    }\n",
              "\n",
              "    .colab-df-convert:hover {\n",
              "      background-color: #E2EBFA;\n",
              "      box-shadow: 0px 1px 2px rgba(60, 64, 67, 0.3), 0px 1px 3px 1px rgba(60, 64, 67, 0.15);\n",
              "      fill: #174EA6;\n",
              "    }\n",
              "\n",
              "    [theme=dark] .colab-df-convert {\n",
              "      background-color: #3B4455;\n",
              "      fill: #D2E3FC;\n",
              "    }\n",
              "\n",
              "    [theme=dark] .colab-df-convert:hover {\n",
              "      background-color: #434B5C;\n",
              "      box-shadow: 0px 1px 3px 1px rgba(0, 0, 0, 0.15);\n",
              "      filter: drop-shadow(0px 1px 2px rgba(0, 0, 0, 0.3));\n",
              "      fill: #FFFFFF;\n",
              "    }\n",
              "  </style>\n",
              "\n",
              "      <script>\n",
              "        const buttonEl =\n",
              "          document.querySelector('#df-c894a3d5-eb00-4d45-b19e-4f00c72251ab button.colab-df-convert');\n",
              "        buttonEl.style.display =\n",
              "          google.colab.kernel.accessAllowed ? 'block' : 'none';\n",
              "\n",
              "        async function convertToInteractive(key) {\n",
              "          const element = document.querySelector('#df-c894a3d5-eb00-4d45-b19e-4f00c72251ab');\n",
              "          const dataTable =\n",
              "            await google.colab.kernel.invokeFunction('convertToInteractive',\n",
              "                                                     [key], {});\n",
              "          if (!dataTable) return;\n",
              "\n",
              "          const docLinkHtml = 'Like what you see? Visit the ' +\n",
              "            '<a target=\"_blank\" href=https://colab.research.google.com/notebooks/data_table.ipynb>data table notebook</a>'\n",
              "            + ' to learn more about interactive tables.';\n",
              "          element.innerHTML = '';\n",
              "          dataTable['output_type'] = 'display_data';\n",
              "          await google.colab.output.renderOutput(dataTable, element);\n",
              "          const docLink = document.createElement('div');\n",
              "          docLink.innerHTML = docLinkHtml;\n",
              "          element.appendChild(docLink);\n",
              "        }\n",
              "      </script>\n",
              "    </div>\n",
              "  </div>\n",
              "  "
            ]
          },
          "metadata": {},
          "execution_count": 28
        }
      ]
    },
    {
      "cell_type": "code",
      "source": [
        "Alumnos={\"Alumno 1\":[6,2],\n",
        "         \"Alumno 2\":[1,0],\n",
        "         \"Alumno 3\":[9,3],\n",
        "          \"Alumno 4\":[6,2],\n",
        "         \"Alumno 5\":[2,1],\n",
        "         \"Alumno 6\":[6,3],\n",
        "         \"Alumno 7\":[6,2],\n",
        "         \"Alumno 8\":[6,2],\n",
        "         \"Alumno 9\":[5,1.5],\n",
        "         \"Alumno 10\":[8,2],\n",
        "         \"Alumno 11\":[9,3],\n",
        "         \"Alumno 12\":[8,3],\n",
        "         \"Alumno 13\":[1,2],\n",
        "         \"Alumno 14\":[7,2.5],\n",
        "         \"Alumno 15\":[9,3],\n",
        "         \"Alumno 16\":[5,2],\n",
        "         \"Alumno 17\":[6,3],\n",
        "         \"Alumno 18\":[2,1],\n",
        "         \"Alumno 19\":[5,2],\n",
        "         \"Alumno 20\":[5,2],}"
      ],
      "metadata": {
        "id": "WKX4lVV1BNyP"
      },
      "execution_count": null,
      "outputs": []
    },
    {
      "cell_type": "code",
      "source": [
        "import pandas as pd"
      ],
      "metadata": {
        "id": "FRDZyOcwLZYE"
      },
      "execution_count": null,
      "outputs": []
    },
    {
      "cell_type": "code",
      "source": [
        "#Dataframe de las calificaciones \n",
        "index =[\"Calificación\",\"Horas de estudio\"]\n",
        "dfA = pd.DataFrame(Alumnos,index=index)\n",
        "dfA"
      ],
      "metadata": {
        "colab": {
          "base_uri": "https://localhost:8080/",
          "height": 211
        },
        "id": "WzCuXr_KLgKB",
        "outputId": "40c531cb-6034-46ad-a56c-7ad560d1e497"
      },
      "execution_count": null,
      "outputs": [
        {
          "output_type": "execute_result",
          "data": {
            "text/plain": [
              "                  Alumno 1  Alumno 2  Alumno 3  Alumno 4  Alumno 5  Alumno 6  \\\n",
              "Calificación             6         1         9         6         2         6   \n",
              "Horas de estudio         2         0         3         2         1         3   \n",
              "\n",
              "                  Alumno 7  Alumno 8  Alumno 9  Alumno 10  Alumno 11  \\\n",
              "Calificación             6         6       5.0          8          9   \n",
              "Horas de estudio         2         2       1.5          2          3   \n",
              "\n",
              "                  Alumno 12  Alumno 13  Alumno 14  Alumno 15  Alumno 16  \\\n",
              "Calificación              8          1        7.0          9          5   \n",
              "Horas de estudio          3          2        2.5          3          2   \n",
              "\n",
              "                  Alumno 17  Alumno 18  Alumno 19  Alumno 20  \n",
              "Calificación              6          2          5          5  \n",
              "Horas de estudio          3          1          2          2  "
            ],
            "text/html": [
              "\n",
              "  <div id=\"df-941c7dbf-1d69-4ccc-b382-97359d29fa39\">\n",
              "    <div class=\"colab-df-container\">\n",
              "      <div>\n",
              "<style scoped>\n",
              "    .dataframe tbody tr th:only-of-type {\n",
              "        vertical-align: middle;\n",
              "    }\n",
              "\n",
              "    .dataframe tbody tr th {\n",
              "        vertical-align: top;\n",
              "    }\n",
              "\n",
              "    .dataframe thead th {\n",
              "        text-align: right;\n",
              "    }\n",
              "</style>\n",
              "<table border=\"1\" class=\"dataframe\">\n",
              "  <thead>\n",
              "    <tr style=\"text-align: right;\">\n",
              "      <th></th>\n",
              "      <th>Alumno 1</th>\n",
              "      <th>Alumno 2</th>\n",
              "      <th>Alumno 3</th>\n",
              "      <th>Alumno 4</th>\n",
              "      <th>Alumno 5</th>\n",
              "      <th>Alumno 6</th>\n",
              "      <th>Alumno 7</th>\n",
              "      <th>Alumno 8</th>\n",
              "      <th>Alumno 9</th>\n",
              "      <th>Alumno 10</th>\n",
              "      <th>Alumno 11</th>\n",
              "      <th>Alumno 12</th>\n",
              "      <th>Alumno 13</th>\n",
              "      <th>Alumno 14</th>\n",
              "      <th>Alumno 15</th>\n",
              "      <th>Alumno 16</th>\n",
              "      <th>Alumno 17</th>\n",
              "      <th>Alumno 18</th>\n",
              "      <th>Alumno 19</th>\n",
              "      <th>Alumno 20</th>\n",
              "    </tr>\n",
              "  </thead>\n",
              "  <tbody>\n",
              "    <tr>\n",
              "      <th>Calificación</th>\n",
              "      <td>6</td>\n",
              "      <td>1</td>\n",
              "      <td>9</td>\n",
              "      <td>6</td>\n",
              "      <td>2</td>\n",
              "      <td>6</td>\n",
              "      <td>6</td>\n",
              "      <td>6</td>\n",
              "      <td>5.0</td>\n",
              "      <td>8</td>\n",
              "      <td>9</td>\n",
              "      <td>8</td>\n",
              "      <td>1</td>\n",
              "      <td>7.0</td>\n",
              "      <td>9</td>\n",
              "      <td>5</td>\n",
              "      <td>6</td>\n",
              "      <td>2</td>\n",
              "      <td>5</td>\n",
              "      <td>5</td>\n",
              "    </tr>\n",
              "    <tr>\n",
              "      <th>Horas de estudio</th>\n",
              "      <td>2</td>\n",
              "      <td>0</td>\n",
              "      <td>3</td>\n",
              "      <td>2</td>\n",
              "      <td>1</td>\n",
              "      <td>3</td>\n",
              "      <td>2</td>\n",
              "      <td>2</td>\n",
              "      <td>1.5</td>\n",
              "      <td>2</td>\n",
              "      <td>3</td>\n",
              "      <td>3</td>\n",
              "      <td>2</td>\n",
              "      <td>2.5</td>\n",
              "      <td>3</td>\n",
              "      <td>2</td>\n",
              "      <td>3</td>\n",
              "      <td>1</td>\n",
              "      <td>2</td>\n",
              "      <td>2</td>\n",
              "    </tr>\n",
              "  </tbody>\n",
              "</table>\n",
              "</div>\n",
              "      <button class=\"colab-df-convert\" onclick=\"convertToInteractive('df-941c7dbf-1d69-4ccc-b382-97359d29fa39')\"\n",
              "              title=\"Convert this dataframe to an interactive table.\"\n",
              "              style=\"display:none;\">\n",
              "        \n",
              "  <svg xmlns=\"http://www.w3.org/2000/svg\" height=\"24px\"viewBox=\"0 0 24 24\"\n",
              "       width=\"24px\">\n",
              "    <path d=\"M0 0h24v24H0V0z\" fill=\"none\"/>\n",
              "    <path d=\"M18.56 5.44l.94 2.06.94-2.06 2.06-.94-2.06-.94-.94-2.06-.94 2.06-2.06.94zm-11 1L8.5 8.5l.94-2.06 2.06-.94-2.06-.94L8.5 2.5l-.94 2.06-2.06.94zm10 10l.94 2.06.94-2.06 2.06-.94-2.06-.94-.94-2.06-.94 2.06-2.06.94z\"/><path d=\"M17.41 7.96l-1.37-1.37c-.4-.4-.92-.59-1.43-.59-.52 0-1.04.2-1.43.59L10.3 9.45l-7.72 7.72c-.78.78-.78 2.05 0 2.83L4 21.41c.39.39.9.59 1.41.59.51 0 1.02-.2 1.41-.59l7.78-7.78 2.81-2.81c.8-.78.8-2.07 0-2.86zM5.41 20L4 18.59l7.72-7.72 1.47 1.35L5.41 20z\"/>\n",
              "  </svg>\n",
              "      </button>\n",
              "      \n",
              "  <style>\n",
              "    .colab-df-container {\n",
              "      display:flex;\n",
              "      flex-wrap:wrap;\n",
              "      gap: 12px;\n",
              "    }\n",
              "\n",
              "    .colab-df-convert {\n",
              "      background-color: #E8F0FE;\n",
              "      border: none;\n",
              "      border-radius: 50%;\n",
              "      cursor: pointer;\n",
              "      display: none;\n",
              "      fill: #1967D2;\n",
              "      height: 32px;\n",
              "      padding: 0 0 0 0;\n",
              "      width: 32px;\n",
              "    }\n",
              "\n",
              "    .colab-df-convert:hover {\n",
              "      background-color: #E2EBFA;\n",
              "      box-shadow: 0px 1px 2px rgba(60, 64, 67, 0.3), 0px 1px 3px 1px rgba(60, 64, 67, 0.15);\n",
              "      fill: #174EA6;\n",
              "    }\n",
              "\n",
              "    [theme=dark] .colab-df-convert {\n",
              "      background-color: #3B4455;\n",
              "      fill: #D2E3FC;\n",
              "    }\n",
              "\n",
              "    [theme=dark] .colab-df-convert:hover {\n",
              "      background-color: #434B5C;\n",
              "      box-shadow: 0px 1px 3px 1px rgba(0, 0, 0, 0.15);\n",
              "      filter: drop-shadow(0px 1px 2px rgba(0, 0, 0, 0.3));\n",
              "      fill: #FFFFFF;\n",
              "    }\n",
              "  </style>\n",
              "\n",
              "      <script>\n",
              "        const buttonEl =\n",
              "          document.querySelector('#df-941c7dbf-1d69-4ccc-b382-97359d29fa39 button.colab-df-convert');\n",
              "        buttonEl.style.display =\n",
              "          google.colab.kernel.accessAllowed ? 'block' : 'none';\n",
              "\n",
              "        async function convertToInteractive(key) {\n",
              "          const element = document.querySelector('#df-941c7dbf-1d69-4ccc-b382-97359d29fa39');\n",
              "          const dataTable =\n",
              "            await google.colab.kernel.invokeFunction('convertToInteractive',\n",
              "                                                     [key], {});\n",
              "          if (!dataTable) return;\n",
              "\n",
              "          const docLinkHtml = 'Like what you see? Visit the ' +\n",
              "            '<a target=\"_blank\" href=https://colab.research.google.com/notebooks/data_table.ipynb>data table notebook</a>'\n",
              "            + ' to learn more about interactive tables.';\n",
              "          element.innerHTML = '';\n",
              "          dataTable['output_type'] = 'display_data';\n",
              "          await google.colab.output.renderOutput(dataTable, element);\n",
              "          const docLink = document.createElement('div');\n",
              "          docLink.innerHTML = docLinkHtml;\n",
              "          element.appendChild(docLink);\n",
              "        }\n",
              "      </script>\n",
              "    </div>\n",
              "  </div>\n",
              "  "
            ]
          },
          "metadata": {},
          "execution_count": 31
        }
      ]
    },
    {
      "cell_type": "code",
      "source": [
        "import seaborn as sns\n",
        "\n",
        "sns.distplot(dfA);"
      ],
      "metadata": {
        "colab": {
          "base_uri": "https://localhost:8080/",
          "height": 322
        },
        "id": "4jHGxdFULYPE",
        "outputId": "8b45c366-37f0-46e6-bdac-854aa6f95fd8"
      },
      "execution_count": null,
      "outputs": [
        {
          "output_type": "stream",
          "name": "stderr",
          "text": [
            "/usr/local/lib/python3.7/dist-packages/seaborn/distributions.py:2619: FutureWarning: `distplot` is a deprecated function and will be removed in a future version. Please adapt your code to use either `displot` (a figure-level function with similar flexibility) or `histplot` (an axes-level function for histograms).\n",
            "  warnings.warn(msg, FutureWarning)\n"
          ]
        },
        {
          "output_type": "display_data",
          "data": {
            "text/plain": [
              "<Figure size 432x288 with 1 Axes>"
            ],
            "image/png": "[encoded data removed]"
          },
          "metadata": {
            "needs_background": "light"
          }
        }
      ]
    }
  ]
}